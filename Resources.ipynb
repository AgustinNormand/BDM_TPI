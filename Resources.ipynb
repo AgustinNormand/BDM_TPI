{
  "nbformat": 4,
  "nbformat_minor": 0,
  "metadata": {
    "colab": {
      "name": "Resources.ipynb",
      "provenance": [],
      "collapsed_sections": []
    },
    "kernelspec": {
      "name": "python3",
      "display_name": "Python 3"
    },
    "language_info": {
      "name": "python"
    }
  },
  "cells": [
    {
      "cell_type": "markdown",
      "source": [
        "La API de MercadoLibre hace uso de algo que se llama Resource o Recurso, que viene del protocolo HTTP. Mediante un string, podemos identificar el o los recursos que queremos consultarle a MercadoLibre.\n",
        "\n",
        "Como nosotros queremos consultar Casas o Deparamentos que se encuentren en Venta, bastaría con hacer una peticion a la API con el siguente Recurso: *sites/MLA/search?category=MLA1459&PROPERTY_TYPE=242060,242062&OPERATION=242075*\n",
        "\n",
        "El inconveniente es que MercadoLibre, nos permite obtener 10.000 registros, dado un recurso determinado. Es decir, que haciendo esta query solo podríamos armar un dataset de 10.000 registros.\n",
        "\n",
        "Como podemos solucionarlo? Haciendo mas especifico el recurso, es decir, pidiendo casas o departamentos, que esten en venta, en la ciudad de buenos aires, en el barrio villa crespo.\n",
        "Y para ese recurso especifico, vamos a poder obtener 10.000 registros.\n",
        "\n",
        "Y eso es lo que hace esta notebook. Mediante querys a MercadoLibre, obeniendo los filtros que tenemos disponibles para hacer cada vez mas especifico el recurso, arma la lista de resources, para que luego otra notebook se encargue de realizar las peticiones correspondientes.\n",
        "\n",
        "Puntualmente, vamos a especificar los resurces con una Ciudad, y un Barrio. \n",
        "Buenos Aires, Recoleta\n",
        "Buenos Aires, Almagro\n",
        "Pilar, ..\n",
        "Pilar, .."
      ],
      "metadata": {
        "id": "s2vqzxLzmIxu"
      }
    },
    {
      "cell_type": "markdown",
      "source": [
        "Instalamos una librería para facilitar el uso de la API de MercadoLibre"
      ],
      "metadata": {
        "id": "r-xnmqV8Kzcx"
      }
    },
    {
      "cell_type": "code",
      "execution_count": 1,
      "metadata": {
        "id": "2m7YNFJQ7FAm",
        "colab": {
          "base_uri": "https://localhost:8080/"
        },
        "outputId": "92b9ea4d-908d-4616-92d5-51d007b93710"
      },
      "outputs": [
        {
          "output_type": "stream",
          "name": "stdout",
          "text": [
            "Collecting git+https://github.com/mercadolibre/python-sdk.git\n",
            "  Cloning https://github.com/mercadolibre/python-sdk.git to /tmp/pip-req-build-fm84s95m\n",
            "  Running command git clone -q https://github.com/mercadolibre/python-sdk.git /tmp/pip-req-build-fm84s95m\n",
            "Collecting urllib3>=1.25.6\n",
            "  Downloading urllib3-1.26.7-py2.py3-none-any.whl (138 kB)\n",
            "\u001b[K     |████████████████████████████████| 138 kB 5.0 MB/s \n",
            "\u001b[?25hRequirement already satisfied: six>=1.10 in /usr/local/lib/python3.7/dist-packages (from meli==3.0.0) (1.15.0)\n",
            "Requirement already satisfied: certifi in /usr/local/lib/python3.7/dist-packages (from meli==3.0.0) (2021.10.8)\n",
            "Requirement already satisfied: python-dateutil in /usr/local/lib/python3.7/dist-packages (from meli==3.0.0) (2.8.2)\n",
            "Building wheels for collected packages: meli\n",
            "  Building wheel for meli (setup.py) ... \u001b[?25l\u001b[?25hdone\n",
            "  Created wheel for meli: filename=meli-3.0.0-py3-none-any.whl size=39713 sha256=8df79f3b127f3320049d9d72184b100565018ee322562c98e89cd9f066001874\n",
            "  Stored in directory: /tmp/pip-ephem-wheel-cache-36f8phe1/wheels/60/64/2d/4c5c8a03c8a655c3d499ecd487a15dc2e740aed5d6574b6305\n",
            "Successfully built meli\n",
            "Installing collected packages: urllib3, meli\n",
            "  Attempting uninstall: urllib3\n",
            "    Found existing installation: urllib3 1.24.3\n",
            "    Uninstalling urllib3-1.24.3:\n",
            "      Successfully uninstalled urllib3-1.24.3\n",
            "\u001b[31mERROR: pip's dependency resolver does not currently take into account all the packages that are installed. This behaviour is the source of the following dependency conflicts.\n",
            "requests 2.23.0 requires urllib3!=1.25.0,!=1.25.1,<1.26,>=1.21.1, but you have urllib3 1.26.7 which is incompatible.\n",
            "datascience 0.10.6 requires folium==0.2.1, but you have folium 0.8.3 which is incompatible.\u001b[0m\n",
            "Successfully installed meli-3.0.0 urllib3-1.26.7\n"
          ]
        }
      ],
      "source": [
        "pip install git+https://github.com/mercadolibre/python-sdk.git"
      ]
    },
    {
      "cell_type": "markdown",
      "source": [
        "Encapsulamos la funcion get de MercadoLibre, con algunos parametros de utilidad.\n",
        "\n",
        "Offset es el indice del primer registro que queremos consultar. Ej: Si es 0, nos traerá el primer registro que la API tiene disponible para el Resource que estamos consultando. \n",
        "\n",
        "Limit es la cantidad de registros que nos traerá la API. El maximo es 50."
      ],
      "metadata": {
        "id": "xAtbrlAwo_9t"
      }
    },
    {
      "cell_type": "code",
      "source": [
        "def get_request(resource, offset=0, limit=50):\n",
        "    api_instance = meli.RestClientApi(api_client)\n",
        "    try:\n",
        "        return api_instance.resource_get(resource+\"&offset=\"+str(offset)+\"&limit=\"+str(limit), access_token)\n",
        "    except ApiException as e:\n",
        "      print(\"Exception when calling RestClientApi->resource_get: %s\\n\" % e)"
      ],
      "metadata": {
        "id": "U_YR-xd_ScnZ"
      },
      "execution_count": 2,
      "outputs": []
    },
    {
      "cell_type": "markdown",
      "source": [
        "MercadoLibre, en todas las respuestas que hace la API, contesta además los filtros disponibles que se pueden agregar para seguir haciendo más especifica la query. Esta funcion, dado una key de un filtro que deseamos, lo obtiene de la lista de filtros desponibles, de una respuesta determinada. En la siguiente función, veremos un ejemplo de esto."
      ],
      "metadata": {
        "id": "L9szbzflpd1K"
      }
    },
    {
      "cell_type": "code",
      "source": [
        "def get_values(response, key):\n",
        "  for filter in response[\"available_filters\"]:\n",
        "    if filter[\"id\"]==key:\n",
        "      return filter[\"values\"]\n",
        "  return None"
      ],
      "metadata": {
        "id": "KyggnCQzfPTt"
      },
      "execution_count": 3,
      "outputs": []
    },
    {
      "cell_type": "markdown",
      "source": [
        "Si ya estamos filtrando por una ciudad determinada, el filtro de \"Ciudad\" no va a aparecer en los filtros disponibles.\n",
        "Esta funcion verifica si un filtro (Ciudad o Barrio) se encuentra o no en los filtros disponibles."
      ],
      "metadata": {
        "id": "150dhC21sqyv"
      }
    },
    {
      "cell_type": "code",
      "source": [
        "def contains(response, key):\n",
        "  if get_values(response, key) != None:\n",
        "    return True\n",
        "  return False"
      ],
      "metadata": {
        "id": "Q_uIa-VdcInl"
      },
      "execution_count": 4,
      "outputs": []
    },
    {
      "cell_type": "markdown",
      "source": [
        "Como para especificar en el recurso, necesitamos los ID de cada ciudad, no podemos indicar City=BuenosAires, esta funcion obtiene, de la lista de filtros disponibles, el ID de todas las ciudades que se encuentren disponibles en la respuesta."
      ],
      "metadata": {
        "id": "hogdnuXOs_GO"
      }
    },
    {
      "cell_type": "code",
      "source": [
        "def get_city_ids(api_response):\n",
        "  city_ids = []\n",
        "  for city in get_values(api_response, \"city\"):\n",
        "    city_ids.append(city[\"id\"])\n",
        "\n",
        "  return city_ids"
      ],
      "metadata": {
        "id": "pr5lIpOlg5nM"
      },
      "execution_count": 5,
      "outputs": []
    },
    {
      "cell_type": "markdown",
      "source": [
        "Lo mismo que la funcion anterior, pero para los barrios."
      ],
      "metadata": {
        "id": "XewAO6iitP1T"
      }
    },
    {
      "cell_type": "code",
      "source": [
        "def get_neighborhood_ids(api_response):\n",
        "  neighborhood_ids = []\n",
        "  for neighborhood in get_values(api_response, \"neighborhood\"):\n",
        "    neighborhood_ids.append(neighborhood[\"id\"])\n",
        "\n",
        "  return neighborhood_ids"
      ],
      "metadata": {
        "id": "HeP70uVpWYFf"
      },
      "execution_count": 6,
      "outputs": []
    },
    {
      "cell_type": "markdown",
      "source": [
        "Para autenticarnos con la API, se debe acceder al siguiente [link](https://auth.mercadolibre.com.ar/authorization?response_type=code&client_id=96683996985285) , copiar el codigo que aparece en la URL, pegarlo en la celda de abajo, donde dice \"code\", y ejecutar la celda, para obtener el token, que será el que utilizaremos en cada peticion a la API.\n"
      ],
      "metadata": {
        "id": "6dyw23f8K9bq"
      }
    },
    {
      "cell_type": "code",
      "source": [
        "from __future__ import print_function\n",
        "import time\n",
        "import meli\n",
        "from meli.rest import ApiException\n",
        "from pprint import pprint\n",
        "\n",
        "with meli.ApiClient() as api_client:\n",
        "    api_instance = meli.OAuth20Api(api_client)\n",
        "    grant_type = 'authorization_code'\n",
        "    client_id = '96683996985285'\n",
        "    client_secret = 'nMeP0YOMz9ZW0ujUdp9MEdV1Spr23vWR'\n",
        "    redirect_uri = 'https://www.google.com'\n",
        "    code = 'TG-61ca712414c25c001a222278-204954233'\n",
        "    refresh_token = 'refresh_token_example'\n",
        "try:\n",
        "    api_response = api_instance.get_token(grant_type=grant_type, client_id=client_id, client_secret=client_secret, redirect_uri=redirect_uri, code=code, refresh_token=refresh_token)\n",
        "    access_token = api_response[\"access_token\"]\n",
        "except ApiException as e:\n",
        "    print(\"Exception when calling OAuth20Api->get_token: %s\\n\" % e)"
      ],
      "metadata": {
        "id": "IpAZyGVVDIZJ"
      },
      "execution_count": 7,
      "outputs": []
    },
    {
      "cell_type": "markdown",
      "source": [
        "Realizamos una primer peticion a la API, filtrando por Casas o Departamentos, en Venta."
      ],
      "metadata": {
        "id": "PL1XcdEctnyJ"
      }
    },
    {
      "cell_type": "code",
      "source": [
        "api_response = get_request('sites/MLA/search?category=MLA1459&offset=3&PROPERTY_TYPE=242060,242062&OPERATION=242075', 0, 0)\n",
        "api_response"
      ],
      "metadata": {
        "id": "8q4nE49kNT5S",
        "colab": {
          "base_uri": "https://localhost:8080/"
        },
        "outputId": "2b9e1dc0-a768-40eb-e9ae-b80a32699a10"
      },
      "execution_count": 8,
      "outputs": [
        {
          "output_type": "execute_result",
          "data": {
            "text/plain": [
              "{'available_filters': [{'id': 'official_store',\n",
              "   'name': 'Tiendas oficiales',\n",
              "   'type': 'text',\n",
              "   'values': [{'id': 'all',\n",
              "     'name': 'Todas las tiendas oficiales',\n",
              "     'results': 24009},\n",
              "    {'id': '2743', 'name': 'Sistema Coldwell Banker', 'results': 1556},\n",
              "    {'id': '2747', 'name': 'Veronica Espinosa Propiedades', 'results': 1121},\n",
              "    {'id': '2536', 'name': 'Century 21', 'results': 1807},\n",
              "    {'id': '2636', 'name': 'Toribio Achaval', 'results': 1635},\n",
              "    {'id': '2707', 'name': 'Tizado', 'results': 689},\n",
              "    {'id': '2761', 'name': 'Prisma Propiedades', 'results': 1}]},\n",
              "  {'id': 'state',\n",
              "   'name': 'Ubicación',\n",
              "   'type': 'text',\n",
              "   'values': [{'id': 'TUxBUENBUGw3M2E1',\n",
              "     'name': 'Capital Federal',\n",
              "     'results': 94798},\n",
              "    {'id': 'TUxBUEdSQWU4ZDkz',\n",
              "     'name': 'Bs.As. G.B.A. Norte',\n",
              "     'results': 66228},\n",
              "    {'id': 'TUxBUEdSQXJlMDNm', 'name': 'Bs.As. G.B.A. Sur', 'results': 54015},\n",
              "    {'id': 'TUxBUEdSQWVmNTVm',\n",
              "     'name': 'Bs.As. G.B.A. Oeste',\n",
              "     'results': 52121},\n",
              "    {'id': 'TUxBUFNBTmU5Nzk2', 'name': 'Santa Fe', 'results': 40512},\n",
              "    {'id': 'TUxBUENPU2ExMmFkMw',\n",
              "     'name': 'Bs.As. Costa Atlántica',\n",
              "     'results': 39088},\n",
              "    {'id': 'TUxBUENPUmFkZGIw', 'name': 'Córdoba', 'results': 26146},\n",
              "    {'id': 'TUxBUFVSVXllZDVl', 'name': 'Uruguay', 'results': 24425},\n",
              "    {'id': 'TUxBUFpPTmFpbnRl',\n",
              "     'name': 'Buenos Aires Interior',\n",
              "     'results': 13589},\n",
              "    {'id': 'TUxBUE5FVW4xMzMzNQ', 'name': 'Neuquén', 'results': 2838},\n",
              "    {'id': 'TUxBUFLNT29iZmZm', 'name': 'Río Negro', 'results': 2408},\n",
              "    {'id': 'TUxBUE1FTmE5OWQ4', 'name': 'Mendoza', 'results': 2322},\n",
              "    {'id': 'TUxBUFRVQ244NmM3', 'name': 'Tucumán', 'results': 1634},\n",
              "    {'id': 'TUxBUEVOVHMzNTdm', 'name': 'Entre Ríos', 'results': 1204},\n",
              "    {'id': 'TUxBUFNBTnM0ZTcz', 'name': 'San Luis', 'results': 1032},\n",
              "    {'id': 'TUxBUFVTQWl1cXdlMg', 'name': 'USA', 'results': 946},\n",
              "    {'id': 'TUxBUFNBTGFjMTJi', 'name': 'Salta', 'results': 516},\n",
              "    {'id': 'TUxBUE1JU3MzNjIx', 'name': 'Misiones', 'results': 430},\n",
              "    {'id': 'TUxBUEJSQWwyMzA1', 'name': 'Brasil', 'results': 344},\n",
              "    {'id': 'TUxBUENIVXQxNDM1MQ', 'name': 'Chubut', 'results': 258},\n",
              "    {'id': 'TUxBUFRJRVoxM2M5YQ', 'name': 'Tierra del Fuego', 'results': 258},\n",
              "    {'id': 'TUxBUENPUnM5MjI0', 'name': 'Corrientes', 'results': 172},\n",
              "    {'id': 'TUxBUFNBTno3ZmY5', 'name': 'Santa Cruz', 'results': 172},\n",
              "    {'id': 'TUxBUENIQW8xMTNhOA', 'name': 'Chaco', 'results': 86},\n",
              "    {'id': 'TUxBUEpVSnk3YmUz', 'name': 'Jujuy', 'results': 86},\n",
              "    {'id': 'TUxBUExBWmE1OWMy', 'name': 'La Pampa', 'results': 86}]},\n",
              "  {'id': 'price',\n",
              "   'name': 'Precio',\n",
              "   'type': 'range',\n",
              "   'values': [{'id': '*-9000000.0',\n",
              "     'name': 'Hasta $ 9.000.000',\n",
              "     'results': 133511},\n",
              "    {'id': '9000000.0-1.5E7',\n",
              "     'name': '$9.000.000 a $15.000.000',\n",
              "     'results': 105629},\n",
              "    {'id': '1.5E7-*', 'name': 'Más de $15.000.000', 'results': 186918}]},\n",
              "  {'id': 'power_seller',\n",
              "   'name': 'Filtro por calidad de vendedores',\n",
              "   'type': 'boolean',\n",
              "   'values': [{'id': 'yes', 'name': 'Mejores vendedores', 'results': 86}]},\n",
              "  {'id': 'since',\n",
              "   'name': 'Filtro por fecha de comienzo',\n",
              "   'type': 'text',\n",
              "   'values': [{'id': 'today', 'name': 'Publicados hoy', 'results': 2337}]},\n",
              "  {'id': 'until',\n",
              "   'name': 'Filtro por fecha de finalización',\n",
              "   'type': 'text',\n",
              "   'values': [{'id': 'today', 'name': 'Finalizan hoy', 'results': 2666}]},\n",
              "  {'id': 'has_video',\n",
              "   'name': 'Filtro por publicaciones con video',\n",
              "   'type': 'boolean',\n",
              "   'values': [{'id': 'yes',\n",
              "     'name': 'Publicaciones con video',\n",
              "     'results': 42409}]},\n",
              "  {'id': 'has_pictures',\n",
              "   'name': 'Filtro por publicaciones con imágenes',\n",
              "   'type': 'boolean',\n",
              "   'values': [{'id': 'yes', 'name': 'Con fotos', 'results': 425112}]},\n",
              "  {'id': 'seller_type',\n",
              "   'name': 'Vendedor',\n",
              "   'type': 'text',\n",
              "   'values': [{'id': 'real_estate_agency',\n",
              "     'name': 'Inmobiliaria',\n",
              "     'results': 412556},\n",
              "    {'id': 'private_seller', 'name': 'Dueño directo', 'results': 13502}]},\n",
              "  {'id': 'BEDROOMS',\n",
              "   'name': 'Dormitorios',\n",
              "   'type': 'range',\n",
              "   'values': [{'id': '[0-0]', 'name': 'Monoambiente', 'results': 37296},\n",
              "    {'id': '[1-1]', 'name': '1 dormitorio', 'results': 118608},\n",
              "    {'id': '[2-2]', 'name': '2 dormitorios', 'results': 123648},\n",
              "    {'id': '[3-3]', 'name': '3 dormitorios', 'results': 92904},\n",
              "    {'id': '[4-*)', 'name': '4 dormitorios o más', 'results': 55104}]},\n",
              "  {'id': 'COVERED_AREA',\n",
              "   'name': 'Superficie cubierta',\n",
              "   'type': 'range',\n",
              "   'values': [{'id': '(*-45m²]',\n",
              "     'name': '45 m² cubiertos o menos',\n",
              "     'results': 120960},\n",
              "    {'id': '[45m²-70m²]', 'name': '45 a 70 m² cubiertos', 'results': 104664},\n",
              "    {'id': '[70m²-150m²]', 'name': '70 a 150 m² cubiertos', 'results': 130704},\n",
              "    {'id': '[150m²-*)', 'name': '150 m² cubiertos o más', 'results': 98112}]},\n",
              "  {'id': 'FULL_BATHROOMS',\n",
              "   'name': 'Baños',\n",
              "   'type': 'range',\n",
              "   'values': [{'id': '[1-1]', 'name': '1 baño', 'results': 228648},\n",
              "    {'id': '[2-2]', 'name': '2 baños', 'results': 110964},\n",
              "    {'id': '[3-3]', 'name': '3 baños', 'results': 45444},\n",
              "    {'id': '[4-4]', 'name': '4 baños', 'results': 19572},\n",
              "    {'id': '[5-*)', 'name': '5 baños o más', 'results': 9660}]},\n",
              "  {'id': 'HAS_AIR_CONDITIONING',\n",
              "   'name': 'Otras características',\n",
              "   'type': 'boolean',\n",
              "   'values': [{'id': '242085',\n",
              "     'name': 'Con aire acondicionado',\n",
              "     'results': 78540}]},\n",
              "  {'id': 'HAS_GARDEN',\n",
              "   'name': 'Otras características',\n",
              "   'type': 'boolean',\n",
              "   'values': [{'id': '242085', 'name': 'Con jardín', 'results': 76776}]},\n",
              "  {'id': 'HAS_GRILL',\n",
              "   'name': 'Otras características',\n",
              "   'type': 'boolean',\n",
              "   'values': [{'id': '242085', 'name': 'Con parrilla', 'results': 74592}]},\n",
              "  {'id': 'HAS_GYM',\n",
              "   'name': 'Otras características',\n",
              "   'type': 'boolean',\n",
              "   'values': [{'id': '242085', 'name': 'Con gimnasio', 'results': 28812}]},\n",
              "  {'id': 'HAS_HALF_BATH',\n",
              "   'name': 'Otras características',\n",
              "   'type': 'boolean',\n",
              "   'values': [{'id': '242085', 'name': 'Con toilette', 'results': 81060}]},\n",
              "  {'id': 'HAS_MULTIPURPOSE_ROOM',\n",
              "   'name': 'Otras características',\n",
              "   'type': 'boolean',\n",
              "   'values': [{'id': '242085',\n",
              "     'name': 'Con salón de usos múltiples',\n",
              "     'results': 38472}]},\n",
              "  {'id': 'HAS_SWIMMING_POOL',\n",
              "   'name': 'Otras características',\n",
              "   'type': 'boolean',\n",
              "   'values': [{'id': '242085', 'name': 'Con pileta', 'results': 84084}]},\n",
              "  {'id': 'ITEM_CONDITION',\n",
              "   'name': 'Condición',\n",
              "   'type': 'STRING',\n",
              "   'values': [{'id': '2230581', 'name': 'Usado', 'results': 257460},\n",
              "    {'id': '2230284', 'name': 'Nuevo', 'results': 137088}]},\n",
              "  {'id': 'MAINTENANCE_FEE',\n",
              "   'name': 'Expensas',\n",
              "   'type': 'range',\n",
              "   'values': [{'id': '(*-3000ARS)',\n",
              "     'name': '3.000 ARS o menos',\n",
              "     'results': 186060},\n",
              "    {'id': '[3000ARS-5000ARS]', 'name': '3.000 a 5.000 ARS', 'results': 26040},\n",
              "    {'id': '[5000ARS-10000ARS]',\n",
              "     'name': '5.000 a 10.000 ARS',\n",
              "     'results': 30156},\n",
              "    {'id': '[10000ARS-*)', 'name': '10.000 ARS o más', 'results': 29148}]},\n",
              "  {'id': 'OPERATION_SUBTYPE',\n",
              "   'name': 'Modalidad',\n",
              "   'type': 'STRING',\n",
              "   'values': [{'id': '244562',\n",
              "     'name': 'Propiedades individuales',\n",
              "     'results': 421848},\n",
              "    {'id': '245034', 'name': 'Emprendimientos', 'results': 2604}]},\n",
              "  {'id': 'PARKING_LOTS',\n",
              "   'name': 'Cocheras',\n",
              "   'type': 'range',\n",
              "   'values': [{'id': '[0-0]', 'name': 'No tiene cocheras', 'results': 233772},\n",
              "    {'id': '[1-1]', 'name': '1 cochera', 'results': 132804},\n",
              "    {'id': '[2-2]', 'name': '2 cocheras', 'results': 43176},\n",
              "    {'id': '[3-3]', 'name': '3 cocheras', 'results': 8232},\n",
              "    {'id': '[4-*)', 'name': '4 cocheras o más', 'results': 7728}]},\n",
              "  {'id': 'PROFESSIONAL_USE_ALLOWED',\n",
              "   'name': 'Otras características',\n",
              "   'type': 'boolean',\n",
              "   'values': [{'id': '242085', 'name': 'Apto profesional', 'results': 29904}]},\n",
              "  {'id': 'PROPERTY_AGE',\n",
              "   'name': 'Antigüedad',\n",
              "   'type': 'range',\n",
              "   'values': [{'id': '[0años-0años]', 'name': 'A estrenar', 'results': 124656},\n",
              "    {'id': '[1años-8años]', 'name': '1 a 8 años', 'results': 49224},\n",
              "    {'id': '[8años-25años]', 'name': '8 a 25 años', 'results': 57540},\n",
              "    {'id': '[25años-50años]', 'name': '25 a 50 años', 'results': 54852},\n",
              "    {'id': '[50años-*)', 'name': '50 años o más', 'results': 16884}]},\n",
              "  {'id': 'ROOMS',\n",
              "   'name': 'Ambientes',\n",
              "   'type': 'range',\n",
              "   'values': [{'id': '[1-1]', 'name': '1 ambiente', 'results': 46284},\n",
              "    {'id': '[2-2]', 'name': '2 ambientes', 'results': 101052},\n",
              "    {'id': '[3-3]', 'name': '3 ambientes', 'results': 102144},\n",
              "    {'id': '[4-*)', 'name': '4 ambientes o más', 'results': 133980}]},\n",
              "  {'id': 'SUITABLE_FOR_MORTGAGE_LOAN',\n",
              "   'name': 'Apto crédito',\n",
              "   'type': 'boolean',\n",
              "   'values': [{'id': '242085', 'name': 'Es apto crédito', 'results': 58632}]},\n",
              "  {'id': 'TOTAL_AREA',\n",
              "   'name': 'Superficie total',\n",
              "   'type': 'range',\n",
              "   'values': [{'id': '(*-50m²]',\n",
              "     'name': '50 m² totales o menos',\n",
              "     'results': 107688},\n",
              "    {'id': '[50m²-80m²]', 'name': '50 a 80 m² totales', 'results': 98616},\n",
              "    {'id': '[80m²-250m²]', 'name': '80 a 250 m² totales', 'results': 118776},\n",
              "    {'id': '[250m²-*)', 'name': '250 m² totales o más', 'results': 109116}]},\n",
              "  {'id': 'WITH_VIRTUAL_TOUR',\n",
              "   'name': 'Multimedia',\n",
              "   'type': 'boolean',\n",
              "   'values': [{'id': '242085', 'name': 'Tour virtual', 'results': 1428}]}],\n",
              " 'available_sorts': [{'id': 'price_asc', 'name': 'Menor precio'},\n",
              "  {'id': 'price_desc', 'name': 'Mayor precio'}],\n",
              " 'country_default_time_zone': 'GMT-03:00',\n",
              " 'filters': [{'id': 'OPERATION',\n",
              "   'name': 'Operación',\n",
              "   'type': 'STRING',\n",
              "   'values': [{'id': '242075', 'name': 'Venta'}]},\n",
              "  {'id': 'PROPERTY_TYPE',\n",
              "   'name': 'Inmueble',\n",
              "   'type': 'STRING',\n",
              "   'values': [{'id': '242060', 'name': 'Casas'},\n",
              "    {'id': '242062', 'name': 'Departamentos'}]},\n",
              "  {'id': 'category',\n",
              "   'name': 'Categorías',\n",
              "   'type': 'text',\n",
              "   'values': [{'id': 'MLA1459',\n",
              "     'name': 'Inmuebles',\n",
              "     'path_from_root': [{'id': 'MLA1459', 'name': 'Inmuebles'}]}]}],\n",
              " 'paging': {'limit': 0, 'offset': 3, 'primary_results': 1000, 'total': 426101},\n",
              " 'results': [],\n",
              " 'site_id': 'MLA',\n",
              " 'sort': {'id': 'relevance', 'name': 'Más relevantes'}}"
            ]
          },
          "metadata": {},
          "execution_count": 8
        }
      ]
    },
    {
      "cell_type": "markdown",
      "source": [
        "Como estamos solicitando un Offset de 0 y un Limit de 0, no nos trae ningún registro, sino unicamente filtros disponibles, ordenamientos disponibles, los filtros que estamos aplicando actualmente, paginación, y resultados, que está vacio, como dijimos.\n",
        "\n",
        "Si vemos el available filter con id \"State\", observamos que tiene valores tales como, Buenos Aires sur, Catamarca, Brasil, etc. Y cada uno de estos nombres, tiene asociado un ID, similar a TUxBUE5FVW4xMzMzNQ. Y luego, la cantidad de registros que contiene ese filtro.\n",
        "\n",
        "Si nos centramos en este: {'id': 'TUxBUENPUmFkZGIw', 'name': 'Córdoba', 'results': 28815}\n",
        "Vemos que es Córdoba, con el id TUxBUENPUmFkZGIw, y tiene 28815 registros. Pero nosotros solo podemos consultar 10000 de estos. Por eso es necesario, que no solo apliquemos este filtro, sino otros, mas especificos todavía, como por ejemplo, filtrando por Barrio, para poder lograr consultar la mayor cantidad de registros que podamos.\n",
        "\n",
        "Es decir, lo que necesitamos es obtener todos esos ID, de los State que nos interesan, para luego en el resource, poder especificar \"state=ID_OBTENIDO\""
      ],
      "metadata": {
        "id": "B1VXMonvN4XB"
      }
    },
    {
      "cell_type": "code",
      "source": [
        "resources_with_state = []\n",
        "for state in get_values(api_response, \"state\"):\n",
        "  if (state[\"name\"] not in(\"USA\",\"Brasil\",\"Uruguay\") ) :\n",
        "    resources_with_state.append('sites/MLA/search?category=MLA1459&PROPERTY_TYPE=242060,242062&OPERATION=242075&state='+state[\"id\"])"
      ],
      "metadata": {
        "id": "JjxCFVebNzXp"
      },
      "execution_count": 9,
      "outputs": []
    },
    {
      "cell_type": "markdown",
      "source": [
        "Lo comentado anteriormente, es lo que intenta resolver esta función. Obtiene de la respuesta de la api, los valores que corresponden a la clave \"state\". Y si no es USA, Brasil o Uruguay, arma el resource más especifico que tenemos hasta el momento, que son Inmuebles, que sean Casas o Departamentos, en Venta, en cada uno de los State que conseguimos, y los guarda en una lista."
      ],
      "metadata": {
        "id": "VEpwTbI7PiZL"
      }
    },
    {
      "cell_type": "markdown",
      "source": [
        "Ahora bien, vimos que debemos hacer más especificas las peticiones, porque no llegabamos a consultar todos los registros, como el ejemplo de Cordoba.\n",
        "\n",
        "Pero acá nos encontramos con un inconveniente a resolver.\n",
        "Hay Estados que tienen directamente Barrios (Estado > Barrio)\n",
        "Y hay  Estados, que tienen Ciudades, que tienen Barrios. (Estate > Ciudad > Barrio)\n",
        "\n",
        "Por eso, no podemos tratar a todas las respuestas de la api por igual. Porque si se trata de una respuesta, que corresponde al caso 2, y nosotros le pedimos de la lista de filtros disponibles, los barrios, va a tirar error, porque no está disponible ese filtro, sino que primero tenemos que filtar por ciudad.\n",
        "\n",
        "Y eso es lo que hace esta funcion. Si la respuesta contiene \"neighborhood\" en los filtros disponibles, se trata del caso 1, (se tratará de Buenos Aires, que ya es una ciudad)\n",
        "\n",
        "Si la respuesta contiene \"city\" se trata del caso 2, como por ejemplo, Mendoza, que no tiene barrios en si misma, sino que tiene ciudades, que tienen barrios."
      ],
      "metadata": {
        "id": "RioJYwaGQqhS"
      }
    },
    {
      "cell_type": "code",
      "source": [
        "resources_with_city = []\n",
        "resources_with_neighborhood = []\n",
        "\n",
        "for resource_with_state in resources_with_state:\n",
        "  api_response = get_request(resource_with_state, 0, 0)\n",
        "  if contains(api_response, \"neighborhood\"):\n",
        "    neighborhood_ids = get_neighborhood_ids(api_response)\n",
        "    for neighborhood_id in neighborhood_ids:\n",
        "      resources_with_neighborhood.append(resource_with_state+\"&neighborhood=\"+neighborhood_id)\n",
        "  else:\n",
        "    if contains(api_response, \"city\"):\n",
        "      city_ids = get_city_ids(api_response)\n",
        "      for city_id in city_ids:\n",
        "        resources_with_city.append(resource_with_state+\"&city=\"+city_id)\n",
        "    else:\n",
        "      print(\"No tenia ni neighborhood ni city\")\n"
      ],
      "metadata": {
        "id": "JfSTntu3YgEc"
      },
      "execution_count": 10,
      "outputs": []
    },
    {
      "cell_type": "markdown",
      "source": [
        "En este punto, hay resources que ya logramos constriurlos lo más especificos que podíamos, los que ya les agregamos el filtro de \"neighborhood\", que la cantidad la vemos en la siguiente celda.\n",
        "\n",
        "Pero todavía tenemos que seguir trabajando con los que solo pudimos agregarles el filtro de \"city\", que la cantidad la vemos mas adelante."
      ],
      "metadata": {
        "id": "labuaQ0zSAO2"
      }
    },
    {
      "cell_type": "code",
      "source": [
        "len(resources_with_neighborhood)"
      ],
      "metadata": {
        "colab": {
          "base_uri": "https://localhost:8080/"
        },
        "id": "lU1dwceJSNIY",
        "outputId": "66fe233b-7c78-4c54-d2c5-1a1763c7d2dd"
      },
      "execution_count": 11,
      "outputs": [
        {
          "output_type": "execute_result",
          "data": {
            "text/plain": [
              "62"
            ]
          },
          "metadata": {},
          "execution_count": 11
        }
      ]
    },
    {
      "cell_type": "code",
      "source": [
        "len(resources_with_city)"
      ],
      "metadata": {
        "colab": {
          "base_uri": "https://localhost:8080/"
        },
        "id": "pQjgzNo7SgS-",
        "outputId": "814ceaf0-ed4e-40c3-a3e5-1a414fb4380b"
      },
      "execution_count": 12,
      "outputs": [
        {
          "output_type": "execute_result",
          "data": {
            "text/plain": [
              "392"
            ]
          },
          "metadata": {},
          "execution_count": 12
        }
      ]
    },
    {
      "cell_type": "code",
      "source": [
        "for resource_with_city in resources_with_city:\n",
        "  api_response = get_request(resource_with_city, 0, 0)\n",
        "  if contains(api_response, \"neighborhood\"):\n",
        "    neighborhood_ids = get_neighborhood_ids(api_response)\n",
        "    for neighborhood_id in neighborhood_ids:\n",
        "      resources_with_neighborhood.append(resource_with_city+\"&neighborhood=\"+neighborhood_id)\n",
        "  else:\n",
        "    resources_with_neighborhood.append(resource_with_city)"
      ],
      "metadata": {
        "id": "drue6zsEjjj2"
      },
      "execution_count": 13,
      "outputs": []
    },
    {
      "cell_type": "markdown",
      "source": [
        "Si el ya pudimos filtrar por ciudad, intentamos filtar por barrio. En caso de que la respuesta de la API, contenga ese filtro disponible, lo incluimos en la lista de \"resources_with_neighborhood\" de lo contrario, lo agregamos unicamente filtrando por ciudad.\n",
        "\n",
        "Si vemos la cantidad de resources que conseguimos, son:"
      ],
      "metadata": {
        "id": "zA2gfUqQVIY_"
      }
    },
    {
      "cell_type": "code",
      "source": [
        "len(resources_with_neighborhood)"
      ],
      "metadata": {
        "colab": {
          "base_uri": "https://localhost:8080/"
        },
        "id": "6wQuvn06VA00",
        "outputId": "cbfc9f07-d340-4418-a925-d9f54da35215"
      },
      "execution_count": 14,
      "outputs": [
        {
          "output_type": "execute_result",
          "data": {
            "text/plain": [
              "2577"
            ]
          },
          "metadata": {},
          "execution_count": 14
        }
      ]
    },
    {
      "cell_type": "markdown",
      "source": [
        "Utilizamos pickle, para escribir la lista de resources, en un archivo, en formato binario."
      ],
      "metadata": {
        "id": "in6wh0rUxOnR"
      }
    },
    {
      "cell_type": "code",
      "source": [
        "import pickle\n",
        "\n",
        "file_name = \"resources.pkl\"\n",
        "\n",
        "open_file = open(file_name, \"wb\")\n",
        "\n",
        "pickle.dump(resources_with_neighborhood, open_file)\n",
        "\n",
        "open_file.close()"
      ],
      "metadata": {
        "id": "18OxSBDvgVCh"
      },
      "execution_count": 15,
      "outputs": []
    },
    {
      "cell_type": "markdown",
      "source": [
        "Por ultimo, vamos a subir este archivo a un bucket, de Google Cloud Storage, para eso declaramos dos variables, una con el nombre del proyecto y la otra con el nombre del bucket, y nos autenticamos."
      ],
      "metadata": {
        "id": "icxnfIclxjsO"
      }
    },
    {
      "cell_type": "code",
      "source": [
        "project_id = 'cryptic-opus-335323'\n",
        "bucket_name = 'bdm-unlu'\n",
        "from google.colab import auth\n",
        "auth.authenticate_user()"
      ],
      "metadata": {
        "id": "VFViJ7PvADx-",
        "colab": {
          "base_uri": "https://localhost:8080/"
        },
        "outputId": "35ef6380-6bb4-423d-b22c-90539c34bac5"
      },
      "execution_count": 16,
      "outputs": [
        {
          "output_type": "stream",
          "name": "stderr",
          "text": [
            "/usr/local/lib/python3.7/dist-packages/requests/__init__.py:91: RequestsDependencyWarning: urllib3 (1.26.7) or chardet (3.0.4) doesn't match a supported version!\n",
            "  RequestsDependencyWarning)\n"
          ]
        }
      ]
    },
    {
      "cell_type": "markdown",
      "source": [
        "Seteamos el proyecto actual de gcloud, utilizando la variable declarada anteriormente."
      ],
      "metadata": {
        "id": "5egxWoTyxzOe"
      }
    },
    {
      "cell_type": "code",
      "source": [
        "!gcloud config set project {project_id}"
      ],
      "metadata": {
        "colab": {
          "base_uri": "https://localhost:8080/"
        },
        "id": "BHT_k0yYATZd",
        "outputId": "137c5b18-9b8b-47e5-db72-33525e9a068a"
      },
      "execution_count": 17,
      "outputs": [
        {
          "output_type": "stream",
          "name": "stdout",
          "text": [
            "Updated property [core/project].\n",
            "\n",
            "\n",
            "To take a quick anonymous survey, run:\n",
            "  $ gcloud survey\n",
            "\n"
          ]
        }
      ]
    },
    {
      "cell_type": "markdown",
      "source": [
        "Y finalmente subimos el archivo al path bdm-unlu/resources/resources.pkl, para poder consumirlo luego desde otro colab, especificamente, el colab de [Querys](https://colab.research.google.com/drive/157aPMMoghsRTnaZY3f-BqwLCb5zwjs-N#scrollTo=H6rugUtu-uXe)."
      ],
      "metadata": {
        "id": "0Ofr7BQcx53E"
      }
    },
    {
      "cell_type": "code",
      "source": [
        "!gsutil cp resources.pkl gs://{bucket_name}/resources/"
      ],
      "metadata": {
        "colab": {
          "base_uri": "https://localhost:8080/"
        },
        "id": "NERiY1sxAZhH",
        "outputId": "f9817065-7585-492d-ebcc-d8303a4e58b0"
      },
      "execution_count": 18,
      "outputs": [
        {
          "output_type": "stream",
          "name": "stdout",
          "text": [
            "Copying file://resources.pkl [Content-Type=application/octet-stream]...\n",
            "/ [1 files][427.8 KiB/427.8 KiB]                                                \n",
            "Operation completed over 1 objects/427.8 KiB.                                    \n"
          ]
        }
      ]
    }
  ]
}