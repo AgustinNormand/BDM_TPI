{
  "nbformat": 4,
  "nbformat_minor": 0,
  "metadata": {
    "colab": {
      "name": "Atributes.ipynb",
      "provenance": [],
      "collapsed_sections": []
    },
    "kernelspec": {
      "name": "python3",
      "display_name": "Python 3"
    },
    "language_info": {
      "name": "python"
    }
  },
  "cells": [
    {
      "cell_type": "markdown",
      "source": [
        "Esta notebook esta destinada a analizar las respuestas de la api, entender los datos que vienen en los registros, filtrar los utiles y eliminar los que no necesitamos.\n",
        "\n",
        "Tuvimos un inconveniente a la hora de realizar esto que planteamos, y es que, al intentar cargar los resultados en memoria, desbordaba la RAM de la notebook.\n",
        "\n",
        "Por este motivo, fue necesario conectar el colab a una instancia especifica de Google, para esto, tuvimos que levantar una instancia en Google Cloud Platform, puntualmente una n1-highmem-4 ubicada en la zona de Google us-west1-b. Esta instancia tiene 4 cores, y 30gb de RAM. Recursos que fueron suficientes para poder trabajar con los resultados de la notebook de Querys.\n",
        "\n",
        "Con la desventaja que este .ipynb debe ser ejecutado con la cuenta donde está levantada la instancia en cuestión."
      ],
      "metadata": {
        "id": "pC0HA2b858dK"
      }
    },
    {
      "cell_type": "markdown",
      "source": [
        "Como no nos encontramos en la instancia tradicional que corre la notebook, es necesaio que nos autentiquemos de forma diferente para usar Google Cloud Storage. \n",
        "\n",
        "Asi que, nos autenticamos de la siguiente manera:"
      ],
      "metadata": {
        "id": "Fgr9b6Wg7z54"
      }
    },
    {
      "cell_type": "code",
      "source": [
        "!gcloud auth login"
      ],
      "metadata": {
        "colab": {
          "base_uri": "https://localhost:8080/"
        },
        "id": "RG7KnCULQMPD",
        "outputId": "3c9849e3-9ddf-4a23-aae0-c3ece2ab35c1"
      },
      "execution_count": null,
      "outputs": [
        {
          "output_type": "stream",
          "name": "stdout",
          "text": [
            "Go to the following link in your browser:\n",
            "\n",
            "    https://accounts.google.com/o/oauth2/auth?response_type=code&client_id=32555940559.apps.googleusercontent.com&redirect_uri=urn%3Aietf%3Awg%3Aoauth%3A2.0%3Aoob&scope=openid+https%3A%2F%2Fwww.googleapis.com%2Fauth%2Fuserinfo.email+https%3A%2F%2Fwww.googleapis.com%2Fauth%2Fcloud-platform+https%3A%2F%2Fwww.googleapis.com%2Fauth%2Fappengine.admin+https%3A%2F%2Fwww.googleapis.com%2Fauth%2Fcompute+https%3A%2F%2Fwww.googleapis.com%2Fauth%2Faccounts.reauth&state=aeyEUJpfJaPTnV3vi6QS1IR5YBTf61&prompt=consent&access_type=offline&code_challenge=mP6uSZe94akiVb-bu3AKbjM838PBVtXhMG6a8yFnkv0&code_challenge_method=S256\n",
            "\n",
            "Enter verification code: 4/1AX4XfWhpPWfCmWVOXM1a76f5-NBBunhtoAdSoxV9MLOgaDmNaS1cCBBw1n8\n",
            "\n",
            "You are now logged in as [an2021dic15@gmail.com].\n",
            "Your current project is [None].  You can change this setting by running:\n",
            "  $ gcloud config set project PROJECT_ID\n"
          ]
        }
      ]
    },
    {
      "cell_type": "markdown",
      "source": [
        "Vamos a descargar el archivo de results del bucket, subido en la notebook anterior. De la misma forma que antes, declaramos dos variables, una con el nombre del proyecto y la otra con el nombre del bucket, y nos autenticamos.\n",
        "\n",
        "Y luego, copiamos del bucket al filesystem, el archivo results.pkl"
      ],
      "metadata": {
        "id": "4oXF-w2Z8_di"
      }
    },
    {
      "cell_type": "code",
      "source": [
        "project_id = 'cryptic-opus-335323'\n",
        "bucket_name = 'bdm-unlu'\n",
        "!gsutil cp gs://{bucket_name}/querys/results.pkl results.pkl "
      ],
      "metadata": {
        "colab": {
          "base_uri": "https://localhost:8080/"
        },
        "id": "O8TSdncrlhVb",
        "outputId": "0313aa4d-b57a-49e0-8f73-abcabacb2df4"
      },
      "execution_count": 83,
      "outputs": [
        {
          "output_type": "stream",
          "name": "stdout",
          "text": [
            "Copying gs://bdm-unlu/querys/results.pkl...\n",
            "- [1 files][  1.4 GiB/  1.4 GiB]   38.2 MiB/s                                   \n",
            "Operation completed over 1 objects/1.4 GiB.                                      \n"
          ]
        }
      ]
    },
    {
      "cell_type": "markdown",
      "source": [
        "Como cada uno de los workers de la notebook anterior, hizo un append al archivo, no basta con hacer un unico load, para obtener los resultados, dado que cada worker hizo un dump, cada vez que guardó resultados de una petición.\n",
        "\n",
        "Por este motivo es que hacemos load del archivo, hasta que tire una exception, que será cuando el archivo ya no tenga mas nada para leer, lo que resulta en la exception \"Ran out of input\"."
      ],
      "metadata": {
        "id": "9LeFUyeA9Jsb"
      }
    },
    {
      "cell_type": "code",
      "source": [
        "import pickle\n",
        "open_file_read = open(\"results.pkl\", \"rb\")\n",
        "raw_results = []\n",
        "has_load = True\n",
        "while has_load:    \n",
        "  try:\n",
        "    raw_results.extend(pickle.load(open_file_read))\n",
        "  except Exception as e:\n",
        "    print(e)\n",
        "    has_load = False"
      ],
      "metadata": {
        "colab": {
          "base_uri": "https://localhost:8080/"
        },
        "id": "6DkurOPTjNlv",
        "outputId": "37b5f4e9-0e5f-4d08-e28b-b2407de0eea8"
      },
      "execution_count": 84,
      "outputs": [
        {
          "output_type": "stream",
          "name": "stdout",
          "text": [
            "Ran out of input\n"
          ]
        }
      ]
    },
    {
      "cell_type": "markdown",
      "source": [
        "Corroboramos la cantidad de registros cargados en memoria"
      ],
      "metadata": {
        "id": "G4ixsz_a-J3H"
      }
    },
    {
      "cell_type": "code",
      "source": [
        "len(raw_results)"
      ],
      "metadata": {
        "colab": {
          "base_uri": "https://localhost:8080/"
        },
        "id": "qcq4bbQd-MXu",
        "outputId": "a35c5886-10ad-4d3d-9809-f119220e2940"
      },
      "execution_count": 85,
      "outputs": [
        {
          "output_type": "execute_result",
          "data": {
            "text/plain": [
              "308017"
            ]
          },
          "metadata": {},
          "execution_count": 85
        }
      ]
    },
    {
      "cell_type": "markdown",
      "source": [
        "Sabemos que la respuesta de la API, tiene una clave llamada \"attributes\", donde se encuentran caracteristicas del inmueble.\n",
        "\n",
        "Y a su vez, cada atributo, tiene diferentes claves, ID, NAME, etc. que corresponden a ese atributo en particular.\n",
        "\n",
        "Esta función dado un unico registro y una clave, obtiene de esa respuesta, de todos los atributos, la clave indicada por parametro."
      ],
      "metadata": {
        "id": "dv9ay61u-R3j"
      }
    },
    {
      "cell_type": "code",
      "source": [
        "def get_atributes(result, key):\n",
        "  atributes_names = []\n",
        "  for atribute in result[\"attributes\"]:\n",
        "    atributes_names.append(atribute[key])\n",
        "  return atributes_names"
      ],
      "metadata": {
        "id": "QoVxZWzalmKy"
      },
      "execution_count": 86,
      "outputs": []
    },
    {
      "cell_type": "markdown",
      "source": [
        "La funcion a continuación, dada una lista de resultados y una clave, obtiene la lista de atributos univoca, identificandolos por la clave dada."
      ],
      "metadata": {
        "id": "gDqnvmNG-0hZ"
      }
    },
    {
      "cell_type": "code",
      "source": [
        "def get_unique_atribute_list(results, key = \"name\"):\n",
        "  atribute_list = []\n",
        "  for result in results:\n",
        "    atributes = get_atributes(result, key)\n",
        "    for atribute in atributes:\n",
        "      if atribute not in atribute_list:\n",
        "        atribute_list.append(atribute)\n",
        "  return atribute_list"
      ],
      "metadata": {
        "id": "l5Zg3shaq0m6"
      },
      "execution_count": 87,
      "outputs": []
    },
    {
      "cell_type": "markdown",
      "source": [
        "Eso nos permite conocer, de los 308017 registros todos los posibles atributos que tienen los registros."
      ],
      "metadata": {
        "id": "7nbLe5uu_PEO"
      }
    },
    {
      "cell_type": "code",
      "source": [
        "get_unique_atribute_list(raw_results)"
      ],
      "metadata": {
        "colab": {
          "base_uri": "https://localhost:8080/"
        },
        "id": "_ab85hL4quGg",
        "outputId": "10243b13-79fc-4d0d-f35b-9e685f13b283"
      },
      "execution_count": 88,
      "outputs": [
        {
          "output_type": "execute_result",
          "data": {
            "text/plain": [
              "['Condición del ítem',\n",
              " 'Aire acondicionado',\n",
              " 'Línea telefónica',\n",
              " 'Dormitorios',\n",
              " 'Superficie cubierta',\n",
              " 'Baños',\n",
              " 'Ambientes',\n",
              " 'Superficie total',\n",
              " 'Operación',\n",
              " 'Inmueble',\n",
              " 'Tour virtual',\n",
              " 'Logo',\n",
              " 'Cantidad máxima de baños',\n",
              " 'Cantidad máxima de dormitorios',\n",
              " 'Cantidad máxima de metros cubiertos',\n",
              " 'Cantidad máxima de ambientes',\n",
              " 'Cantidad máxima de metros totales',\n",
              " 'Cantidad mínima de baños',\n",
              " 'Cantidad mínima de dormitorios',\n",
              " 'Cantidad mínima de metros cubiertos',\n",
              " 'Cantidad mínima de ambientes',\n",
              " 'Cantidad mínima de metros totales',\n",
              " 'Nombre del emprendimiento',\n",
              " 'Fecha de entrega',\n",
              " 'Número de oficinas']"
            ]
          },
          "metadata": {},
          "execution_count": 88
        }
      ]
    },
    {
      "cell_type": "markdown",
      "source": [
        "Vemos que hay bastantes que son intuitivos, pero hay otros que ;laman la atencion. Como por ejemplo los de \"Cantidad máxima de baños\", \"Cantidad máxima de dormitorios\", ... \n",
        "\n",
        "Analizando encontramos que se trata de Emprendimientos, publicados en MercadoLibre, tales como [este](https://departamento.mercadolibre.com.ar/MLA-913664246-edificio-en-piedras-al-1300-san-telmo-_JM).\n",
        "\n",
        "Y encontramos que todos estos emprendimientos, tienen un atributo, cuyo ID es DEVELOPMENT_NAME.\n",
        "\n",
        "Para tratarlos, hicimos una funcion que determina si una respuesta determinada, contiene o no, en su lista de atributos, un valor especifico, en una clave determinada."
      ],
      "metadata": {
        "id": "6-fOaeUoowCr"
      }
    },
    {
      "cell_type": "code",
      "source": [
        "def contains(result, key, value):\n",
        "  for x in result:\n",
        "    if x[key] == value:\n",
        "      return True\n",
        "  return False"
      ],
      "metadata": {
        "id": "TBntX8QgtksY"
      },
      "execution_count": 89,
      "outputs": []
    },
    {
      "cell_type": "markdown",
      "source": [
        "La utilizamos para ver, de todos los registros, cuales contenían en su lista de atributos, un atributo cuyo \"id\", sea DEVELOPMENT_NAME.\n",
        "\n",
        "Y guardamos en una lista llamada in_development, los inmuebles que eran emprendimientos, y los que no, en una lista llamada in_use."
      ],
      "metadata": {
        "id": "ERQF29DcADoX"
      }
    },
    {
      "cell_type": "code",
      "source": [
        "in_development = []\n",
        "in_use = []\n",
        "\n",
        "atribute_list = []\n",
        "for raw_result in raw_results:\n",
        "  if contains(raw_result[\"attributes\"], \"id\", \"DEVELOPMENT_NAME\"):\n",
        "    in_development.append(raw_result)\n",
        "  else:\n",
        "    in_use.append(raw_result)"
      ],
      "metadata": {
        "id": "Qb5ir6vmlZaP"
      },
      "execution_count": 90,
      "outputs": []
    },
    {
      "cell_type": "markdown",
      "source": [
        "De esta manera, si vemos la longitud de la lista in_development, podremos ver, la cantidad de inmuebles que son de tipo emprendimiento, publicados en MercadoLibre."
      ],
      "metadata": {
        "id": "vJ77mFNaqpej"
      }
    },
    {
      "cell_type": "code",
      "source": [
        "len(in_development)"
      ],
      "metadata": {
        "colab": {
          "base_uri": "https://localhost:8080/"
        },
        "id": "mM4SZcWFqns2",
        "outputId": "a8445248-79d2-4170-e28a-e4f7c209efd0"
      },
      "execution_count": 91,
      "outputs": [
        {
          "output_type": "execute_result",
          "data": {
            "text/plain": [
              "1640"
            ]
          },
          "metadata": {},
          "execution_count": 91
        }
      ]
    },
    {
      "cell_type": "markdown",
      "source": [
        "Si ahora vemos la lista univoca de atributos, de los inmuebles que quedaron en la lista in_use, vemos que ya no aparecen los atributos que nos llamaban la atención, tales como \"Cantidad mínima de metros cubiertos\", \"Cantidad mínima de ambientes\", etc."
      ],
      "metadata": {
        "id": "H4EvM6K8AaZl"
      }
    },
    {
      "cell_type": "code",
      "source": [
        "get_unique_atribute_list(in_use)"
      ],
      "metadata": {
        "colab": {
          "base_uri": "https://localhost:8080/"
        },
        "id": "04YrYYq8qlcY",
        "outputId": "3f81358c-049b-4fc9-9cf0-51c48d0d6cea"
      },
      "execution_count": 92,
      "outputs": [
        {
          "output_type": "execute_result",
          "data": {
            "text/plain": [
              "['Condición del ítem',\n",
              " 'Aire acondicionado',\n",
              " 'Línea telefónica',\n",
              " 'Dormitorios',\n",
              " 'Superficie cubierta',\n",
              " 'Baños',\n",
              " 'Ambientes',\n",
              " 'Superficie total',\n",
              " 'Operación',\n",
              " 'Inmueble',\n",
              " 'Tour virtual',\n",
              " 'Número de oficinas']"
            ]
          },
          "metadata": {},
          "execution_count": 92
        }
      ]
    },
    {
      "cell_type": "markdown",
      "source": [
        "Un valor que llama medianamente la atención es 'Tour virtual', por lo que verificamos si se trata de un valor atipico, o si la mayoría de los registros lo tienen."
      ],
      "metadata": {
        "id": "vG3zyXEYvf35"
      }
    },
    {
      "cell_type": "code",
      "source": [
        "records_with_virtual_tour = 0\n",
        "for value in in_use:\n",
        "  if contains(value[\"attributes\"], \"id\", \"WITH_VIRTUAL_TOUR\"):\n",
        "    records_with_virtual_tour += 1\n",
        "records_with_virtual_tour"
      ],
      "metadata": {
        "id": "7IxMx6QxuIUm",
        "colab": {
          "base_uri": "https://localhost:8080/"
        },
        "outputId": "4b0fa25e-c65b-4e5c-b74b-b6ca06a1a402"
      },
      "execution_count": 93,
      "outputs": [
        {
          "output_type": "execute_result",
          "data": {
            "text/plain": [
              "245235"
            ]
          },
          "metadata": {},
          "execution_count": 93
        }
      ]
    },
    {
      "cell_type": "markdown",
      "source": [
        "Vemos que dicha cantidad tienen este atributo, y analizando, vimos que se trata de un video, mostrando el interior del departamento y la entrada del edificio."
      ],
      "metadata": {
        "id": "geZt3mUAA_Yt"
      }
    },
    {
      "cell_type": "markdown",
      "source": [
        "Por ultimo, el atributo de \"Número de oficinas\", llama la atención, por lo que también hicimos un analisis, para ver de que se trata."
      ],
      "metadata": {
        "id": "Q0Mo4RMHwOC6"
      }
    },
    {
      "cell_type": "code",
      "source": [
        "records_with_office_number = []\n",
        "for value in in_use:\n",
        "  if contains(value[\"attributes\"], \"name\", \"Número de oficinas\"):\n",
        "    records_with_office_number.append(value)\n",
        "len(records_with_office_number)"
      ],
      "metadata": {
        "id": "B47uryyFvkGv",
        "colab": {
          "base_uri": "https://localhost:8080/"
        },
        "outputId": "e0ed98b4-e4f4-4102-8226-7823c2417471"
      },
      "execution_count": 94,
      "outputs": [
        {
          "output_type": "execute_result",
          "data": {
            "text/plain": [
              "4"
            ]
          },
          "metadata": {},
          "execution_count": 94
        }
      ]
    },
    {
      "cell_type": "markdown",
      "source": [
        "Vemos que solo esa cantidad de registros, tienen este atributo, por lo que es un atributo bastante propenso a ser borrado.\n",
        "\n",
        "Obtenemos el permalink para poder ver en la web de que inmueble se trata"
      ],
      "metadata": {
        "id": "tgG9q-zEB0jv"
      }
    },
    {
      "cell_type": "code",
      "source": [
        "records_with_office_number[0][\"permalink\"]"
      ],
      "metadata": {
        "id": "d5OS3TNeyvgU",
        "colab": {
          "base_uri": "https://localhost:8080/",
          "height": 35
        },
        "outputId": "a5b6550e-b07d-45b7-e319-2426f999a115"
      },
      "execution_count": 95,
      "outputs": [
        {
          "output_type": "execute_result",
          "data": {
            "application/vnd.google.colaboratory.intrinsic+json": {
              "type": "string"
            },
            "text/plain": [
              "'https://departamento.mercadolibre.com.ar/MLA-1108741528-hermoso-loft-con-techos-a-35-m-de-altura-_JM'"
            ]
          },
          "metadata": {},
          "execution_count": 95
        }
      ]
    },
    {
      "cell_type": "markdown",
      "source": [
        "Y vemos que son propiedades utilizadas como oficina, por lo que los removemos de la lista de registros."
      ],
      "metadata": {
        "id": "nG1mgPXxwnv0"
      }
    },
    {
      "cell_type": "code",
      "source": [
        "for record_with_office_number in records_with_office_number:\n",
        "  in_use.remove(record_with_office_number)"
      ],
      "metadata": {
        "id": "FEaZxw87wb8B"
      },
      "execution_count": 96,
      "outputs": []
    },
    {
      "cell_type": "markdown",
      "source": [
        "Y si ahora corroboramos la lista de atributos, vemos que esta limpia, con todos atributos que nos parecen válidos para describir un inmueble, de la forma que queremos, para el analisis que estamos buscando realizar."
      ],
      "metadata": {
        "id": "Z7pDdvjvCJ4n"
      }
    },
    {
      "cell_type": "code",
      "source": [
        "get_unique_atribute_list(in_use)"
      ],
      "metadata": {
        "id": "V1P6DUqMwrv0",
        "colab": {
          "base_uri": "https://localhost:8080/"
        },
        "outputId": "8991d82c-ef92-4e2c-88da-c5a5e6352f78"
      },
      "execution_count": 97,
      "outputs": [
        {
          "output_type": "execute_result",
          "data": {
            "text/plain": [
              "['Condición del ítem',\n",
              " 'Aire acondicionado',\n",
              " 'Línea telefónica',\n",
              " 'Dormitorios',\n",
              " 'Superficie cubierta',\n",
              " 'Baños',\n",
              " 'Ambientes',\n",
              " 'Superficie total',\n",
              " 'Operación',\n",
              " 'Inmueble',\n",
              " 'Tour virtual']"
            ]
          },
          "metadata": {},
          "execution_count": 97
        }
      ]
    },
    {
      "cell_type": "markdown",
      "source": [
        "Hasta aca un analisis de los diferentes atributos que contenian los registros, y una primera aproximación al filtrado.\n",
        "\n",
        "\n",
        "\n",
        "---\n",
        "\n",
        "\n",
        "\n",
        "Ahora vamos a seleccionar los atributos mas importantes y armar un primer DataFrame."
      ],
      "metadata": {
        "id": "Tb37pZYsC_X2"
      }
    },
    {
      "cell_type": "markdown",
      "source": [
        "Obtenemos la lista de atributos univocos, pero ahora utilizando el id como identificador, y no el name. Y la guardamos en una variable llamada property_attributes."
      ],
      "metadata": {
        "id": "iQvU2UhBCtMd"
      }
    },
    {
      "cell_type": "code",
      "source": [
        "property_attributes = get_unique_atribute_list(in_use, \"id\")"
      ],
      "metadata": {
        "id": "8gNXLj4NgU8T"
      },
      "execution_count": 98,
      "outputs": []
    },
    {
      "cell_type": "markdown",
      "source": [
        "Esta funcion, dado un registro y una lista de claves, encuentra en la respuesta de la API el valor buscado, o devuelve None."
      ],
      "metadata": {
        "id": "4kEPG1yh8nei"
      }
    },
    {
      "cell_type": "code",
      "source": [
        "def fetch_nested_value(record, keys):  \n",
        "  try:\n",
        "    for key in keys: \n",
        "      record = record.get(key) \n",
        "    return record\n",
        "  except: \n",
        "    return None"
      ],
      "metadata": {
        "id": "VNgD28CJ_fNZ"
      },
      "execution_count": 99,
      "outputs": []
    },
    {
      "cell_type": "markdown",
      "source": [
        "Este bloque de codigo, dado un registro y un valor de ID determinado,, encuentra el atributo cuyo id es igual al pasado por parametro."
      ],
      "metadata": {
        "id": "e4cDjbbO8wg1"
      }
    },
    {
      "cell_type": "code",
      "source": [
        "def fetch_attribute_by_id(record, attr_id): \n",
        "  try:\n",
        "    for attr in record[\"attributes\"]: \n",
        "      if (attr[\"id\"] == attr_id):\n",
        "        return attr[\"value_name\"]\n",
        "  except:\n",
        "    return None    "
      ],
      "metadata": {
        "id": "UA87IniFgdQv"
      },
      "execution_count": 100,
      "outputs": []
    },
    {
      "cell_type": "markdown",
      "source": [
        "Esta es la funcion que mapea de un registro de la API, con campos que nos interesan y campos que no, a un diccionario de python, unicamente con campos que son utiles.\n",
        "\n",
        "Siempre contiene los atributos presentes en property_attributes, en caso de no estar en la respuesta de la API, los asigna con valor None."
      ],
      "metadata": {
        "id": "zchWdviP86Wl"
      }
    },
    {
      "cell_type": "code",
      "source": [
        "def process_record(record, expected_attributes): \n",
        "  result = {}    \n",
        "  result[\"title\"] = record[\"title\"]\n",
        "  result[\"permalink\"] = record[\"permalink\"]\n",
        "\n",
        "  result[\"city\"] = fetch_nested_value(record, [\"location\",\"city\",\"name\"])\n",
        "  result[\"state\"] = fetch_nested_value(record, [\"location\",\"state\",\"name\"])\n",
        "  result[\"latitude\"] = fetch_nested_value(record, [\"location\",\"latitude\"])\n",
        "  result[\"longitude\"] = fetch_nested_value(record, [\"location\",\"longitude\"])\n",
        "  result[\"neighborhood\"] = fetch_nested_value(record, [\"location\",\"neighborhood\",\"name\"])\n",
        "  \n",
        "  result[\"seller_id\"] = fetch_nested_value(record, [\"seller\",\"id\"])\n",
        "  result[\"seller_city\"] = fetch_nested_value(record, [\"seller_address\",\"city\",\"name\"])\n",
        "  result[\"seller_state\"] = fetch_nested_value(record, [\"seller_address\",\"state\",\"name\"])\n",
        "  result[\"real_estate_agency\"] = fetch_nested_value(record, [\"seller\",\"real_estate_agency\"])\n",
        "  result[\"seller_cancelations\"] = fetch_nested_value(record, [\"seller\",\"seller_reputation\",\"metrics\",\"cancellations\",\"value\"])\n",
        "  result[\"seller_claims\"] = fetch_nested_value(record, [\"seller\",\"seller_reputation\",\"metrics\",\"claims\",\"value\"])\n",
        "  result[\"seller_handling_time\"] = fetch_nested_value(record, [\"seller\",\"seller_reputation\",\"metrics\",\"delayed_handling_time\",\"value\"])\n",
        "  result[\"seller_sales\"] = fetch_nested_value(record, [\"seller\",\"seller_reputation\",\"metrics\",\"sales\",\"completed\"])\n",
        "  \n",
        "  result[\"currency_id\"] = record[\"currency_id\"]\n",
        "  result[\"price\"] = record[\"price\"]\n",
        "\n",
        "  for attr in expected_attributes:\n",
        "    result[attr.lower()] = fetch_attribute_by_id(record, attr)\n",
        "  \n",
        "  return result"
      ],
      "metadata": {
        "id": "TO570Av66mkU"
      },
      "execution_count": 101,
      "outputs": []
    },
    {
      "cell_type": "markdown",
      "source": [
        "Procesa todos los registros, y los guarda en una lista (records)"
      ],
      "metadata": {
        "id": "Swke5sVK9Zyn"
      }
    },
    {
      "cell_type": "code",
      "source": [
        "records = []\n",
        "for record in in_use:\n",
        "  try:\n",
        "    records.append(process_record(record, property_attributes))\n",
        "  except Exception as e:    \n",
        "    print(e)"
      ],
      "metadata": {
        "id": "uEWugyl_-mKk"
      },
      "execution_count": 102,
      "outputs": []
    },
    {
      "cell_type": "markdown",
      "source": [
        "Importamos la libreria de pandas, y creamos un dataframe a partir de la lista de diccionarios."
      ],
      "metadata": {
        "id": "FnYBD9gl9gMx"
      }
    },
    {
      "cell_type": "code",
      "source": [
        "import pandas as pd\n",
        "pd.set_option('display.max_colwidth', 150)\n",
        "data = pd.DataFrame.from_dict(records)"
      ],
      "metadata": {
        "id": "2HmH8eGZCHkF"
      },
      "execution_count": 103,
      "outputs": []
    },
    {
      "cell_type": "markdown",
      "source": [
        "Imprimimos el resultado de hacerle un head al dataframe mencionado."
      ],
      "metadata": {
        "id": "b5_oRJzO9kwY"
      }
    },
    {
      "cell_type": "code",
      "source": [
        "data.head()"
      ],
      "metadata": {
        "id": "pdSx9rvUlntc",
        "colab": {
          "base_uri": "https://localhost:8080/",
          "height": 530
        },
        "outputId": "b245dcf4-b2c5-44df-9283-e7f616f04e95"
      },
      "execution_count": 104,
      "outputs": [
        {
          "output_type": "execute_result",
          "data": {
            "text/html": [
              "<div>\n",
              "<style scoped>\n",
              "    .dataframe tbody tr th:only-of-type {\n",
              "        vertical-align: middle;\n",
              "    }\n",
              "\n",
              "    .dataframe tbody tr th {\n",
              "        vertical-align: top;\n",
              "    }\n",
              "\n",
              "    .dataframe thead th {\n",
              "        text-align: right;\n",
              "    }\n",
              "</style>\n",
              "<table border=\"1\" class=\"dataframe\">\n",
              "  <thead>\n",
              "    <tr style=\"text-align: right;\">\n",
              "      <th></th>\n",
              "      <th>title</th>\n",
              "      <th>permalink</th>\n",
              "      <th>city</th>\n",
              "      <th>state</th>\n",
              "      <th>latitude</th>\n",
              "      <th>longitude</th>\n",
              "      <th>neighborhood</th>\n",
              "      <th>seller_id</th>\n",
              "      <th>seller_city</th>\n",
              "      <th>seller_state</th>\n",
              "      <th>real_estate_agency</th>\n",
              "      <th>seller_cancelations</th>\n",
              "      <th>seller_claims</th>\n",
              "      <th>seller_handling_time</th>\n",
              "      <th>seller_sales</th>\n",
              "      <th>currency_id</th>\n",
              "      <th>price</th>\n",
              "      <th>item_condition</th>\n",
              "      <th>has_air_conditioning</th>\n",
              "      <th>has_telephone_line</th>\n",
              "      <th>bedrooms</th>\n",
              "      <th>covered_area</th>\n",
              "      <th>full_bathrooms</th>\n",
              "      <th>rooms</th>\n",
              "      <th>total_area</th>\n",
              "      <th>operation</th>\n",
              "      <th>property_type</th>\n",
              "      <th>with_virtual_tour</th>\n",
              "    </tr>\n",
              "  </thead>\n",
              "  <tbody>\n",
              "    <tr>\n",
              "      <th>0</th>\n",
              "      <td>Departamento Venta 3 Ambientes Palermo  Amenities Cochera</td>\n",
              "      <td>https://departamento.mercadolibre.com.ar/MLA-1116767893-departamento-venta-3-ambientes-palermo-amenities-cochera-_JM</td>\n",
              "      <td>Capital Federal</td>\n",
              "      <td>Capital Federal</td>\n",
              "      <td>-34.579563</td>\n",
              "      <td>-58.433160</td>\n",
              "      <td>Palermo Hollywood</td>\n",
              "      <td>314431007</td>\n",
              "      <td>Palermo</td>\n",
              "      <td>Capital Federal</td>\n",
              "      <td>True</td>\n",
              "      <td>0.0</td>\n",
              "      <td>0.0</td>\n",
              "      <td>0.0</td>\n",
              "      <td>0.0</td>\n",
              "      <td>USD</td>\n",
              "      <td>270000.0</td>\n",
              "      <td>Usado</td>\n",
              "      <td>No</td>\n",
              "      <td>No</td>\n",
              "      <td>2</td>\n",
              "      <td>85 m²</td>\n",
              "      <td>3</td>\n",
              "      <td>3</td>\n",
              "      <td>85 m²</td>\n",
              "      <td>Venta</td>\n",
              "      <td>Departamento</td>\n",
              "      <td>No</td>\n",
              "    </tr>\n",
              "    <tr>\n",
              "      <th>1</th>\n",
              "      <td>Venta Departamento 3 Ambientes Piso 15 Palermo</td>\n",
              "      <td>https://departamento.mercadolibre.com.ar/MLA-1107347883-venta-departamento-3-ambientes-piso-15-palermo-_JM</td>\n",
              "      <td>Capital Federal</td>\n",
              "      <td>Capital Federal</td>\n",
              "      <td>-34.573490</td>\n",
              "      <td>-58.436577</td>\n",
              "      <td>Palermo Hollywood</td>\n",
              "      <td>466036843</td>\n",
              "      <td>Monserrat</td>\n",
              "      <td>Capital Federal</td>\n",
              "      <td>True</td>\n",
              "      <td>0.0</td>\n",
              "      <td>0.0</td>\n",
              "      <td>0.0</td>\n",
              "      <td>0.0</td>\n",
              "      <td>USD</td>\n",
              "      <td>148500.0</td>\n",
              "      <td>Usado</td>\n",
              "      <td>None</td>\n",
              "      <td>None</td>\n",
              "      <td>2</td>\n",
              "      <td>46 m²</td>\n",
              "      <td>1</td>\n",
              "      <td>3</td>\n",
              "      <td>55 m²</td>\n",
              "      <td>Venta</td>\n",
              "      <td>Departamento</td>\n",
              "      <td>No</td>\n",
              "    </tr>\n",
              "    <tr>\n",
              "      <th>2</th>\n",
              "      <td>Venta Departamento 3amb Con Cochera Triplex Palermohollywood</td>\n",
              "      <td>https://departamento.mercadolibre.com.ar/MLA-1113461025-venta-departamento-3amb-con-cochera-triplex-palermohollywood-_JM</td>\n",
              "      <td>Capital Federal</td>\n",
              "      <td>Capital Federal</td>\n",
              "      <td>-34.585620</td>\n",
              "      <td>-58.440120</td>\n",
              "      <td>Palermo Hollywood</td>\n",
              "      <td>419112633</td>\n",
              "      <td>Palermo Chico</td>\n",
              "      <td>Capital Federal</td>\n",
              "      <td>True</td>\n",
              "      <td>0.0</td>\n",
              "      <td>0.0</td>\n",
              "      <td>0.0</td>\n",
              "      <td>0.0</td>\n",
              "      <td>USD</td>\n",
              "      <td>215000.0</td>\n",
              "      <td>Usado</td>\n",
              "      <td>No</td>\n",
              "      <td>Sí</td>\n",
              "      <td>2</td>\n",
              "      <td>93 m²</td>\n",
              "      <td>3</td>\n",
              "      <td>3</td>\n",
              "      <td>102 m²</td>\n",
              "      <td>Venta</td>\n",
              "      <td>Departamento</td>\n",
              "      <td>None</td>\n",
              "    </tr>\n",
              "    <tr>\n",
              "      <th>3</th>\n",
              "      <td>Departamento - Palermo Hollywood - Venta Monoambiente Quartier Dorrego</td>\n",
              "      <td>https://departamento.mercadolibre.com.ar/MLA-921699674-departamento-palermo-hollywood-venta-monoambiente-quartier-dorrego-_JM</td>\n",
              "      <td>Capital Federal</td>\n",
              "      <td>Capital Federal</td>\n",
              "      <td>-34.577396</td>\n",
              "      <td>-58.439194</td>\n",
              "      <td>Palermo Hollywood</td>\n",
              "      <td>694286242</td>\n",
              "      <td>Belgrano</td>\n",
              "      <td>Capital Federal</td>\n",
              "      <td>True</td>\n",
              "      <td>0.0</td>\n",
              "      <td>0.0</td>\n",
              "      <td>0.0</td>\n",
              "      <td>0.0</td>\n",
              "      <td>USD</td>\n",
              "      <td>180000.0</td>\n",
              "      <td>Nuevo</td>\n",
              "      <td>Sí</td>\n",
              "      <td>No</td>\n",
              "      <td>0</td>\n",
              "      <td>40 m²</td>\n",
              "      <td>1</td>\n",
              "      <td>1</td>\n",
              "      <td>40 m²</td>\n",
              "      <td>Venta</td>\n",
              "      <td>Departamento</td>\n",
              "      <td>No</td>\n",
              "    </tr>\n",
              "    <tr>\n",
              "      <th>4</th>\n",
              "      <td>Departamento - Palermo Hollywood</td>\n",
              "      <td>https://departamento.mercadolibre.com.ar/MLA-1116714973-departamento-palermo-hollywood-_JM</td>\n",
              "      <td>Capital Federal</td>\n",
              "      <td>Capital Federal</td>\n",
              "      <td>-34.579685</td>\n",
              "      <td>-58.429800</td>\n",
              "      <td>Palermo Hollywood</td>\n",
              "      <td>418539414</td>\n",
              "      <td>Palermo Chico</td>\n",
              "      <td>Capital Federal</td>\n",
              "      <td>True</td>\n",
              "      <td>0.0</td>\n",
              "      <td>0.0</td>\n",
              "      <td>0.0</td>\n",
              "      <td>0.0</td>\n",
              "      <td>USD</td>\n",
              "      <td>135000.0</td>\n",
              "      <td>Nuevo</td>\n",
              "      <td>No</td>\n",
              "      <td>No</td>\n",
              "      <td>1</td>\n",
              "      <td>46 m²</td>\n",
              "      <td>1</td>\n",
              "      <td>2</td>\n",
              "      <td>52 m²</td>\n",
              "      <td>Venta</td>\n",
              "      <td>Departamento</td>\n",
              "      <td>No</td>\n",
              "    </tr>\n",
              "  </tbody>\n",
              "</table>\n",
              "</div>"
            ],
            "text/plain": [
              "                                                                    title  ... with_virtual_tour\n",
              "0               Departamento Venta 3 Ambientes Palermo  Amenities Cochera  ...                No\n",
              "1                          Venta Departamento 3 Ambientes Piso 15 Palermo  ...                No\n",
              "2            Venta Departamento 3amb Con Cochera Triplex Palermohollywood  ...              None\n",
              "3  Departamento - Palermo Hollywood - Venta Monoambiente Quartier Dorrego  ...                No\n",
              "4                                        Departamento - Palermo Hollywood  ...                No\n",
              "\n",
              "[5 rows x 28 columns]"
            ]
          },
          "metadata": {},
          "execution_count": 104
        }
      ]
    },
    {
      "cell_type": "markdown",
      "source": [
        "Guardamos el dataset en un archivo llamado dataset.csv, y lo guardamos en el bucket, en el path bdm-unlu/attributes/dataset.csv"
      ],
      "metadata": {
        "id": "K-PIwi95_DL-"
      }
    },
    {
      "cell_type": "code",
      "source": [
        "data.to_csv(\"dataset.csv\")\n",
        "\n",
        "!gsutil cp dataset.csv gs://{bucket_name}/attributes/dataset.csv"
      ],
      "metadata": {
        "id": "4Uq1RYuIQUiz",
        "colab": {
          "base_uri": "https://localhost:8080/"
        },
        "outputId": "8719a14d-42e1-4cdb-ab99-2380357f6d4b"
      },
      "execution_count": 106,
      "outputs": [
        {
          "output_type": "stream",
          "name": "stdout",
          "text": [
            "Copying file://dataset.csv [Content-Type=text/csv]...\n",
            "- [1 files][ 97.5 MiB/ 97.5 MiB]                                                \n",
            "Operation completed over 1 objects/97.5 MiB.                                     \n"
          ]
        }
      ]
    },
    {
      "cell_type": "markdown",
      "source": [
        "Algunos Atributos que vemos en la interfaz web, accediendo por el permalink, que no estan en las respuestas de la API, son:\n",
        "\n",
        "* Cocheras\n",
        "* Disposición\n",
        "* Antigüedad\n",
        "* Cantidad de pisos\n",
        "* Expensas\n",
        "* Descripcion\n",
        "\n",
        "Para obtener estos, hicimos un [html scrapper](https://colab.research.google.com/drive/1bZE1LxYHKdU_7sd7aTB_6EtfpxXNZ_ZG).\n"
      ],
      "metadata": {
        "id": "r_i-nTHs_Rou"
      }
    },
    {
      "cell_type": "markdown",
      "source": [
        "En otra notebook, comenzamos a hacer un primer Analisis Exploratorio, para ver graficamente los datos que teníamos hasta el momento. [EDA Notebook](https://colab.research.google.com/drive/1cB-0nSc58VGIT8FRBt4llbzxHoFKVKZp#gceVm=cryptic-opus-335323/us-west1-b/colab-1-vm&scrollTo=NtmM77ofAZuW)."
      ],
      "metadata": {
        "id": "RNQI3VYi-tjG"
      }
    }
  ]
}