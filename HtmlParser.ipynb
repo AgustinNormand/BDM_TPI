{
  "nbformat": 4,
  "nbformat_minor": 0,
  "metadata": {
    "colab": {
      "name": "HtmlParser.ipynb",
      "provenance": [],
      "collapsed_sections": []
    },
    "kernelspec": {
      "name": "python3",
      "display_name": "Python 3"
    },
    "language_info": {
      "name": "python"
    }
  },
  "cells": [
    {
      "cell_type": "markdown",
      "source": [
        "Como cada uno de los archivos resultado, de las 12 instancaias, pesaba aproximadamente 10GB, los procesamos en cada instancia, y guardamos una lista, en binario, con los resultados de los campos de la tabla de specs, y subimos esta lista al bucket de Google Cloud Storage.\n",
        "\n",
        "De esta forma, permitiamos descargar luego estas listas procesadas por cada instancia, que tendrán un tamaño mucho menor."
      ],
      "metadata": {
        "id": "cg6xUjke9CC_"
      }
    },
    {
      "cell_type": "markdown",
      "source": [
        "La función utilizada para obtener la tabla de specs, es muy similar a la vista anteriormente. De todas formas, vamos a ver un ejemplo.\n",
        "\n",
        "Nos autenticamos con Google Cloud Storage, para obtener el dataset. Lo cargamos en un dataset de pandas, obtenemos el primer permalink y realizamos la request."
      ],
      "metadata": {
        "id": "daJTVlfix-VP"
      }
    },
    {
      "cell_type": "code",
      "source": [
        "project_id = 'cryptic-opus-335323'\n",
        "bucket_name = 'bdm-unlu'\n",
        "from google.colab import auth\n",
        "auth.authenticate_user()\n",
        "!gsutil cp gs://{bucket_name}/attributes/dataset.csv dataset.csv\n",
        "\n",
        "import pandas as pd\n",
        "pd.set_option('display.max_colwidth', 150)\n",
        "data = pd.read_csv(\"dataset.csv\")\n",
        "\n",
        "permalink = data.head(1).permalink[0]\n",
        "permalink\n",
        "\n",
        "import requests\n",
        "\n",
        "r = requests.get(permalink)\n",
        "\n",
        "r"
      ],
      "metadata": {
        "colab": {
          "base_uri": "https://localhost:8080/"
        },
        "id": "VOQHVjSNyHzA",
        "outputId": "17caa6be-cf2f-4a06-9974-9cc33998f030"
      },
      "execution_count": 4,
      "outputs": [
        {
          "output_type": "stream",
          "name": "stdout",
          "text": [
            "Copying gs://bdm-unlu/attributes/dataset.csv...\n",
            "- [1 files][ 97.5 MiB/ 97.5 MiB]                                                \n",
            "Operation completed over 1 objects/97.5 MiB.                                     \n"
          ]
        },
        {
          "output_type": "execute_result",
          "data": {
            "text/plain": [
              "<Response [200]>"
            ]
          },
          "metadata": {},
          "execution_count": 4
        }
      ]
    },
    {
      "cell_type": "markdown",
      "source": [
        "Definimos la función que va a obtener cada par clave valor, de la tabla de specs.\n",
        "\n",
        "Busca primero el div con la clase ui-pdp-specs, luego la tabla con la clase ui-pdp-specs__table, y finalmente, dentro de este ultimo tag, las claves que son th con la clase ui-pdp-specs__table__column-title y los valores que son span, con la clase andes-table__column--value"
      ],
      "metadata": {
        "id": "HkTte-AoyuxZ"
      }
    },
    {
      "cell_type": "code",
      "source": [
        "from bs4 import BeautifulSoup\n",
        "def process_result(result):\n",
        "  dict_result = {}\n",
        "  soup = BeautifulSoup(result, 'html.parser')\n",
        "  div = soup.find_all(\"div\", {\"class\":\"ui-pdp-specs\"})[0]\n",
        "  table = div.find_all(\"div\", {\"class\":\"ui-pdp-specs__table\"})[0]\n",
        "  keys = table.find_all(\"th\", {\"class\":\"ui-pdp-specs__table__column-title\"})\n",
        "  values = table.find_all(\"span\", {\"class\":\"andes-table__column--value\"})\n",
        "\n",
        "  for pair in zip(keys, values):\n",
        "    dict_result[pair[0].text] = pair[1].text\n",
        "  return dict_result\n"
      ],
      "metadata": {
        "id": "4Enf_ClSyuYA"
      },
      "execution_count": 7,
      "outputs": []
    },
    {
      "cell_type": "markdown",
      "source": [
        "Y finalmente vemos el diccionario, con los valores deseados."
      ],
      "metadata": {
        "id": "eGTogGJJzUuX"
      }
    },
    {
      "cell_type": "code",
      "source": [
        "process_result(r.text)"
      ],
      "metadata": {
        "colab": {
          "base_uri": "https://localhost:8080/"
        },
        "id": "-KLG5-C8zDk-",
        "outputId": "cc2e7919-b3bc-4692-e192-6c1153be7f48"
      },
      "execution_count": 8,
      "outputs": [
        {
          "output_type": "execute_result",
          "data": {
            "text/plain": [
              "{'Ambientes': '3',\n",
              " 'Antigüedad': '10 años',\n",
              " 'Baños': '3',\n",
              " 'Cantidad de pisos': '7',\n",
              " 'Cocheras': '1',\n",
              " 'Disposición': 'Frente',\n",
              " 'Dormitorios': '2',\n",
              " 'Expensas': '20000 ARS',\n",
              " 'Superficie cubierta': '85 m²',\n",
              " 'Superficie total': '85 m²'}"
            ]
          },
          "metadata": {},
          "execution_count": 8
        }
      ]
    },
    {
      "cell_type": "markdown",
      "source": [
        "El código fuente ejecutado en las 12 instancias, se encuentra en el repositorio, en el path html_parser/source_code/"
      ],
      "metadata": {
        "id": "aOFdrJTvzZKK"
      }
    }
  ]
}