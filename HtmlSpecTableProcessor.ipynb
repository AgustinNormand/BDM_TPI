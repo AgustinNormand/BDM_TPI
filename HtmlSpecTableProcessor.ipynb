{
  "nbformat": 4,
  "nbformat_minor": 0,
  "metadata": {
    "colab": {
      "name": "HtmlSpecTableProcessor.ipynb",
      "provenance": [],
      "collapsed_sections": []
    },
    "kernelspec": {
      "name": "python3",
      "display_name": "Python 3"
    },
    "language_info": {
      "name": "python"
    }
  },
  "cells": [
    {
      "cell_type": "markdown",
      "source": [
        "Luego de haber realizado las peticiones con el HTML Scrapper, y obtenido cada par clave valor de la tabla de caracteristicas con el HTML Spec Table Parser, vamos a descargar los archivos resultantes de este ultimo, y procesarlos en esta notebook.\n",
        "\n",
        "Para esto, nos autenticamos con Google Cloud Storage, y descargamos dichos archivos."
      ],
      "metadata": {
        "id": "as7g1oMEcANm"
      }
    },
    {
      "cell_type": "code",
      "source": [
        "project_id = 'cryptic-opus-335323'\n",
        "bucket_name = 'bdm-unlu'\n",
        "from google.colab import auth\n",
        "auth.authenticate_user()\n",
        "!rm -r html_parser\n",
        "!gsutil cp -r gs://{bucket_name}/html_parser/ ."
      ],
      "metadata": {
        "colab": {
          "base_uri": "https://localhost:8080/"
        },
        "id": "es7hUWrIhTI3",
        "outputId": "d23dbf76-6c03-4dbd-dc0a-4c7e11dce214"
      },
      "execution_count": 29,
      "outputs": [
        {
          "output_type": "stream",
          "name": "stdout",
          "text": [
            "Copying gs://bdm-unlu/html_parser/parsed_result_0.pkl...\n",
            "Copying gs://bdm-unlu/html_parser/parsed_result_1.pkl...\n",
            "Copying gs://bdm-unlu/html_parser/parsed_result_10.pkl...\n",
            "Copying gs://bdm-unlu/html_parser/parsed_result_11.pkl...\n",
            "/ [4 files][805.7 KiB/805.7 KiB]                                                \n",
            "==> NOTE: You are performing a sequence of gsutil operations that may\n",
            "run significantly faster if you instead use gsutil -m cp ... Please\n",
            "see the -m section under \"gsutil help options\" for further information\n",
            "about when gsutil -m can be advantageous.\n",
            "\n",
            "Copying gs://bdm-unlu/html_parser/parsed_result_2.pkl...\n",
            "Copying gs://bdm-unlu/html_parser/parsed_result_3.pkl...\n",
            "Copying gs://bdm-unlu/html_parser/parsed_result_4.pkl...\n",
            "Copying gs://bdm-unlu/html_parser/parsed_result_5.pkl...\n",
            "Copying gs://bdm-unlu/html_parser/parsed_result_6.pkl...\n",
            "Copying gs://bdm-unlu/html_parser/parsed_result_7.pkl...\n",
            "Copying gs://bdm-unlu/html_parser/parsed_result_8.pkl...\n",
            "Copying gs://bdm-unlu/html_parser/parsed_result_9.pkl...\n",
            "| [12 files][  2.4 MiB/  2.4 MiB]                                               \n",
            "Operation completed over 12 objects/2.4 MiB.                                     \n"
          ]
        }
      ]
    },
    {
      "cell_type": "markdown",
      "source": [
        "Utilizando el comando cat de Linux, respetando la numeración de los archivos, los concatenamos, resultando en el archivo html_parser/results.pkl.gz"
      ],
      "metadata": {
        "id": "d7FxTPo5cZfp"
      }
    },
    {
      "cell_type": "code",
      "source": [
        "!cat html_parser/parsed_result_0.pkl html_parser/parsed_result_1.pkl html_parser/parsed_result_2.pkl html_parser/parsed_result_3.pkl html_parser/parsed_result_4.pkl html_parser/parsed_result_5.pkl html_parser/parsed_result_6.pkl html_parser/parsed_result_7.pkl html_parser/parsed_result_8.pkl html_parser/parsed_result_9.pkl html_parser/parsed_result_10.pkl html_parser/parsed_result_11.pkl > html_parser/results.pkl.gz"
      ],
      "metadata": {
        "id": "rO-h--HZh9ld"
      },
      "execution_count": 30,
      "outputs": []
    },
    {
      "cell_type": "markdown",
      "source": [
        "Descomprimimos dicho archivo"
      ],
      "metadata": {
        "id": "-woC365-cmnW"
      }
    },
    {
      "cell_type": "code",
      "source": [
        "!gzip -d html_parser/results.pkl.gz"
      ],
      "metadata": {
        "id": "eZkpW_0PqLp-"
      },
      "execution_count": 31,
      "outputs": []
    },
    {
      "cell_type": "markdown",
      "source": [
        "Cargamos todos los resultados de este archivo en la variable \"results\". Vemos que en total tenemos 12 resultados, correspondiendo con la cantidad de instancias de Google."
      ],
      "metadata": {
        "id": "02MvPqVncqnX"
      }
    },
    {
      "cell_type": "code",
      "source": [
        "import pickle\n",
        "\n",
        "open_file_read = open(\"html_parser/results.pkl\", \"rb\")\n",
        "\n",
        "raw_results_count = 0\n",
        "has_load = True\n",
        "results = []\n",
        "\n",
        "while has_load:     \n",
        "  try:\n",
        "    raw_result = pickle.load(open_file_read)\n",
        "    raw_results_count += 1\n",
        "    results.extend(raw_result)\n",
        "  except Exception as e:\n",
        "    has_load = False\n",
        "\n",
        "print(\"Read {} results.\".format(raw_results_count))\n",
        "\n",
        "    \n",
        "    "
      ],
      "metadata": {
        "colab": {
          "base_uri": "https://localhost:8080/"
        },
        "id": "oVDHkIpkT65j",
        "outputId": "b08c24c2-0f57-4ffc-bd41-5baf86333797"
      },
      "execution_count": 32,
      "outputs": [
        {
          "output_type": "stream",
          "name": "stdout",
          "text": [
            "Read 12 results.\n"
          ]
        }
      ]
    },
    {
      "cell_type": "markdown",
      "source": [
        "Vemos la longitud de esta lista"
      ],
      "metadata": {
        "id": "jKQC_F2vc7Fz"
      }
    },
    {
      "cell_type": "code",
      "source": [
        "len(results)"
      ],
      "metadata": {
        "colab": {
          "base_uri": "https://localhost:8080/"
        },
        "id": "ME_5ZhW_WMG2",
        "outputId": "5f6e033b-4b4f-43b2-dac4-786a50369582"
      },
      "execution_count": 33,
      "outputs": [
        {
          "output_type": "execute_result",
          "data": {
            "text/plain": [
              "82165"
            ]
          },
          "metadata": {},
          "execution_count": 33
        }
      ]
    },
    {
      "cell_type": "markdown",
      "source": [
        "Para verificar, podríamos preguntarnos, cuantos permalinks faltan consultar?\n",
        "\n",
        "Descargamos el dataset para obtener la cantidad original de permalinks que deberíamos haber solicitado\n"
      ],
      "metadata": {
        "id": "WsaBR0L6YmuM"
      }
    },
    {
      "cell_type": "code",
      "source": [
        "!gsutil cp gs://{bucket_name}/dataset_trimmer/trimmed_dataset_cf.csv .\n",
        "\n",
        "import pandas as pd\n",
        "df = pd.read_csv(\"trimmed_dataset_cf.csv\")"
      ],
      "metadata": {
        "colab": {
          "base_uri": "https://localhost:8080/"
        },
        "id": "kh3kJX23Yzx3",
        "outputId": "2a3b546c-833b-40c2-9dde-8977398d0e58"
      },
      "execution_count": 34,
      "outputs": [
        {
          "output_type": "stream",
          "name": "stdout",
          "text": [
            "Copying gs://bdm-unlu/dataset_trimmer/trimmed_dataset_cf.csv...\n",
            "/ [1 files][ 28.6 MiB/ 28.6 MiB]                                                \n",
            "Operation completed over 1 objects/28.6 MiB.                                     \n"
          ]
        }
      ]
    },
    {
      "cell_type": "markdown",
      "source": [
        "Si restamos las longitudes, faltan consultar:"
      ],
      "metadata": {
        "id": "_ensOLI5kDbr"
      }
    },
    {
      "cell_type": "code",
      "source": [
        "len(results) - len(df[\"permalink\"])"
      ],
      "metadata": {
        "colab": {
          "base_uri": "https://localhost:8080/"
        },
        "id": "cEecV3eZgciq",
        "outputId": "dda591d6-6035-4a21-b80d-ca1725cf7a06"
      },
      "execution_count": 35,
      "outputs": [
        {
          "output_type": "execute_result",
          "data": {
            "text/plain": [
              "0"
            ]
          },
          "metadata": {},
          "execution_count": 35
        }
      ]
    },
    {
      "cell_type": "markdown",
      "source": [
        "Con esta función obtenemos la lista univoca de claves que obtuvimos de la tabla de caracteristicas de los inmuebles."
      ],
      "metadata": {
        "id": "vrByc5TzdlwH"
      }
    },
    {
      "cell_type": "code",
      "source": [
        "def get_unique_key_list(results):\n",
        "  key_list = []\n",
        "  for result in results:\n",
        "    for key in result[1].keys():\n",
        "      if key not in key_list:\n",
        "        key_list.append(key)\n",
        "  return key_list\n",
        "\n",
        "key_list = get_unique_key_list(results)\n",
        "key_list"
      ],
      "metadata": {
        "id": "SEuv9n9AYU0l",
        "colab": {
          "base_uri": "https://localhost:8080/"
        },
        "outputId": "3104e910-9644-458f-c353-db538a47c85c"
      },
      "execution_count": 36,
      "outputs": [
        {
          "output_type": "execute_result",
          "data": {
            "text/plain": [
              "['Superficie total',\n",
              " 'Superficie cubierta',\n",
              " 'Ambientes',\n",
              " 'Dormitorios',\n",
              " 'Baños',\n",
              " 'Cocheras',\n",
              " 'Cantidad de pisos',\n",
              " 'Disposición',\n",
              " 'Antigüedad',\n",
              " 'Expensas',\n",
              " 'Departamentos por piso',\n",
              " 'Número de piso de la unidad',\n",
              " 'Orientación',\n",
              " 'Tipo de departamento',\n",
              " 'Bodegas',\n",
              " 'Tipo de casa',\n",
              " 'Superficie de terreno']"
            ]
          },
          "metadata": {},
          "execution_count": 36
        }
      ]
    },
    {
      "cell_type": "markdown",
      "source": [
        "Comprobamos si el orden de los resultados, es el mismo que el orden del dataset, utilizando los permalinks. Y vemos que efectivamente es así."
      ],
      "metadata": {
        "id": "_W_kvYJ_d-mL"
      }
    },
    {
      "cell_type": "code",
      "source": [
        "index = 0\n",
        "for result in results:\n",
        "  if df.iloc[index][\"permalink\"] != result[0]:\n",
        "    print(\"Diferent order between dataframe and results\")\n",
        "    break\n",
        "  index += 1"
      ],
      "metadata": {
        "id": "4OxTL7Cu39t5"
      },
      "execution_count": 37,
      "outputs": []
    },
    {
      "cell_type": "markdown",
      "source": [
        "Creamos un diccionario, donde las claves, son cada una de las caracteristicas univocas obtenidas anteriormente"
      ],
      "metadata": {
        "id": "e2_Y62r9eRcD"
      }
    },
    {
      "cell_type": "code",
      "source": [
        "new_data = {}\n",
        "for key in key_list:\n",
        "  new_data[key] = []"
      ],
      "metadata": {
        "id": "fm7EZ7q36MMB"
      },
      "execution_count": 38,
      "outputs": []
    },
    {
      "cell_type": "markdown",
      "source": [
        "Y por cada resultado, agregamos en cada clave del diccionario, el valor que contenga para esa clave determinada. Sin importar si este tiene un valor especifico, o un None."
      ],
      "metadata": {
        "id": "EQJ3hKUpeYka"
      }
    },
    {
      "cell_type": "code",
      "source": [
        "for result in results:\n",
        "  for key in key_list:\n",
        "    new_data[key].append(result[1].get(key))"
      ],
      "metadata": {
        "id": "SmgnKHvJ57ha"
      },
      "execution_count": 39,
      "outputs": []
    },
    {
      "cell_type": "markdown",
      "source": [
        "Luego, cada clave del diccionario, la asignamos al dataset, creando una nueva columna."
      ],
      "metadata": {
        "id": "ewyKegF3ejh8"
      }
    },
    {
      "cell_type": "code",
      "source": [
        "for key in key_list:\n",
        "  df[key] = new_data[key]"
      ],
      "metadata": {
        "id": "GHF78Fcz68se"
      },
      "execution_count": 40,
      "outputs": []
    },
    {
      "cell_type": "markdown",
      "source": [
        "Resultando en el siguiente dataset."
      ],
      "metadata": {
        "id": "Ix9Ra2LXenVM"
      }
    },
    {
      "cell_type": "code",
      "source": [
        "pd.set_option('display.max_colwidth', 150)\n",
        "df.head()"
      ],
      "metadata": {
        "colab": {
          "base_uri": "https://localhost:8080/",
          "height": 652
        },
        "id": "eJxSAPeQ7RbG",
        "outputId": "0382f448-066d-4a5f-aa14-786d70fda762"
      },
      "execution_count": 41,
      "outputs": [
        {
          "output_type": "execute_result",
          "data": {
            "text/html": [
              "\n",
              "  <div id=\"df-332564ef-27ad-4dce-9626-c9108668c6d8\">\n",
              "    <div class=\"colab-df-container\">\n",
              "      <div>\n",
              "<style scoped>\n",
              "    .dataframe tbody tr th:only-of-type {\n",
              "        vertical-align: middle;\n",
              "    }\n",
              "\n",
              "    .dataframe tbody tr th {\n",
              "        vertical-align: top;\n",
              "    }\n",
              "\n",
              "    .dataframe thead th {\n",
              "        text-align: right;\n",
              "    }\n",
              "</style>\n",
              "<table border=\"1\" class=\"dataframe\">\n",
              "  <thead>\n",
              "    <tr style=\"text-align: right;\">\n",
              "      <th></th>\n",
              "      <th>Unnamed: 0</th>\n",
              "      <th>Unnamed: 0.1</th>\n",
              "      <th>title</th>\n",
              "      <th>permalink</th>\n",
              "      <th>city</th>\n",
              "      <th>state</th>\n",
              "      <th>latitude</th>\n",
              "      <th>longitude</th>\n",
              "      <th>neighborhood</th>\n",
              "      <th>seller_id</th>\n",
              "      <th>seller_city</th>\n",
              "      <th>seller_state</th>\n",
              "      <th>real_estate_agency</th>\n",
              "      <th>seller_cancelations</th>\n",
              "      <th>seller_claims</th>\n",
              "      <th>seller_handling_time</th>\n",
              "      <th>seller_sales</th>\n",
              "      <th>currency_id</th>\n",
              "      <th>price</th>\n",
              "      <th>item_condition</th>\n",
              "      <th>has_air_conditioning</th>\n",
              "      <th>has_telephone_line</th>\n",
              "      <th>bedrooms</th>\n",
              "      <th>covered_area</th>\n",
              "      <th>full_bathrooms</th>\n",
              "      <th>rooms</th>\n",
              "      <th>total_area</th>\n",
              "      <th>operation</th>\n",
              "      <th>property_type</th>\n",
              "      <th>with_virtual_tour</th>\n",
              "      <th>Superficie total</th>\n",
              "      <th>Superficie cubierta</th>\n",
              "      <th>Ambientes</th>\n",
              "      <th>Dormitorios</th>\n",
              "      <th>Baños</th>\n",
              "      <th>Cocheras</th>\n",
              "      <th>Cantidad de pisos</th>\n",
              "      <th>Disposición</th>\n",
              "      <th>Antigüedad</th>\n",
              "      <th>Expensas</th>\n",
              "      <th>Departamentos por piso</th>\n",
              "      <th>Número de piso de la unidad</th>\n",
              "      <th>Orientación</th>\n",
              "      <th>Tipo de departamento</th>\n",
              "      <th>Bodegas</th>\n",
              "      <th>Tipo de casa</th>\n",
              "      <th>Superficie de terreno</th>\n",
              "    </tr>\n",
              "  </thead>\n",
              "  <tbody>\n",
              "    <tr>\n",
              "      <th>0</th>\n",
              "      <td>0</td>\n",
              "      <td>0</td>\n",
              "      <td>Departamento Venta 3 Ambientes Palermo  Amenities Cochera</td>\n",
              "      <td>https://departamento.mercadolibre.com.ar/MLA-1116767893-departamento-venta-3-ambientes-palermo-amenities-cochera-_JM</td>\n",
              "      <td>Capital Federal</td>\n",
              "      <td>Capital Federal</td>\n",
              "      <td>-34.579563</td>\n",
              "      <td>-58.433160</td>\n",
              "      <td>Palermo Hollywood</td>\n",
              "      <td>314431007</td>\n",
              "      <td>Palermo</td>\n",
              "      <td>Capital Federal</td>\n",
              "      <td>True</td>\n",
              "      <td>0.0</td>\n",
              "      <td>0.0</td>\n",
              "      <td>0.0</td>\n",
              "      <td>0.0</td>\n",
              "      <td>USD</td>\n",
              "      <td>270000.0</td>\n",
              "      <td>Usado</td>\n",
              "      <td>No</td>\n",
              "      <td>No</td>\n",
              "      <td>2.0</td>\n",
              "      <td>85 m²</td>\n",
              "      <td>3.0</td>\n",
              "      <td>3.0</td>\n",
              "      <td>85 m²</td>\n",
              "      <td>Venta</td>\n",
              "      <td>Departamento</td>\n",
              "      <td>No</td>\n",
              "      <td>85 m²</td>\n",
              "      <td>85 m²</td>\n",
              "      <td>3</td>\n",
              "      <td>2</td>\n",
              "      <td>3</td>\n",
              "      <td>1</td>\n",
              "      <td>7</td>\n",
              "      <td>Frente</td>\n",
              "      <td>10 años</td>\n",
              "      <td>20000 ARS</td>\n",
              "      <td>None</td>\n",
              "      <td>None</td>\n",
              "      <td>None</td>\n",
              "      <td>None</td>\n",
              "      <td>None</td>\n",
              "      <td>None</td>\n",
              "      <td>None</td>\n",
              "    </tr>\n",
              "    <tr>\n",
              "      <th>1</th>\n",
              "      <td>1</td>\n",
              "      <td>1</td>\n",
              "      <td>Venta Departamento 3 Ambientes Piso 15 Palermo</td>\n",
              "      <td>https://departamento.mercadolibre.com.ar/MLA-1107347883-venta-departamento-3-ambientes-piso-15-palermo-_JM</td>\n",
              "      <td>Capital Federal</td>\n",
              "      <td>Capital Federal</td>\n",
              "      <td>-34.573490</td>\n",
              "      <td>-58.436577</td>\n",
              "      <td>Palermo Hollywood</td>\n",
              "      <td>466036843</td>\n",
              "      <td>Monserrat</td>\n",
              "      <td>Capital Federal</td>\n",
              "      <td>True</td>\n",
              "      <td>0.0</td>\n",
              "      <td>0.0</td>\n",
              "      <td>0.0</td>\n",
              "      <td>0.0</td>\n",
              "      <td>USD</td>\n",
              "      <td>148500.0</td>\n",
              "      <td>Usado</td>\n",
              "      <td>NaN</td>\n",
              "      <td>NaN</td>\n",
              "      <td>2.0</td>\n",
              "      <td>46 m²</td>\n",
              "      <td>1.0</td>\n",
              "      <td>3.0</td>\n",
              "      <td>55 m²</td>\n",
              "      <td>Venta</td>\n",
              "      <td>Departamento</td>\n",
              "      <td>No</td>\n",
              "      <td>55 m²</td>\n",
              "      <td>46 m²</td>\n",
              "      <td>3</td>\n",
              "      <td>2</td>\n",
              "      <td>1</td>\n",
              "      <td>None</td>\n",
              "      <td>None</td>\n",
              "      <td>None</td>\n",
              "      <td>50 años</td>\n",
              "      <td>12.5 ARS</td>\n",
              "      <td>None</td>\n",
              "      <td>None</td>\n",
              "      <td>None</td>\n",
              "      <td>None</td>\n",
              "      <td>None</td>\n",
              "      <td>None</td>\n",
              "      <td>None</td>\n",
              "    </tr>\n",
              "    <tr>\n",
              "      <th>2</th>\n",
              "      <td>2</td>\n",
              "      <td>2</td>\n",
              "      <td>Venta Departamento 3amb Con Cochera Triplex Palermohollywood</td>\n",
              "      <td>https://departamento.mercadolibre.com.ar/MLA-1113461025-venta-departamento-3amb-con-cochera-triplex-palermohollywood-_JM</td>\n",
              "      <td>Capital Federal</td>\n",
              "      <td>Capital Federal</td>\n",
              "      <td>-34.585620</td>\n",
              "      <td>-58.440120</td>\n",
              "      <td>Palermo Hollywood</td>\n",
              "      <td>419112633</td>\n",
              "      <td>Palermo Chico</td>\n",
              "      <td>Capital Federal</td>\n",
              "      <td>True</td>\n",
              "      <td>0.0</td>\n",
              "      <td>0.0</td>\n",
              "      <td>0.0</td>\n",
              "      <td>0.0</td>\n",
              "      <td>USD</td>\n",
              "      <td>215000.0</td>\n",
              "      <td>Usado</td>\n",
              "      <td>No</td>\n",
              "      <td>Sí</td>\n",
              "      <td>2.0</td>\n",
              "      <td>93 m²</td>\n",
              "      <td>3.0</td>\n",
              "      <td>3.0</td>\n",
              "      <td>102 m²</td>\n",
              "      <td>Venta</td>\n",
              "      <td>Departamento</td>\n",
              "      <td>NaN</td>\n",
              "      <td>102 m²</td>\n",
              "      <td>93 m²</td>\n",
              "      <td>3</td>\n",
              "      <td>2</td>\n",
              "      <td>3</td>\n",
              "      <td>1</td>\n",
              "      <td>3</td>\n",
              "      <td>Frente</td>\n",
              "      <td>5 años</td>\n",
              "      <td>16000 ARS</td>\n",
              "      <td>3</td>\n",
              "      <td>4</td>\n",
              "      <td>Sur</td>\n",
              "      <td>None</td>\n",
              "      <td>None</td>\n",
              "      <td>None</td>\n",
              "      <td>None</td>\n",
              "    </tr>\n",
              "    <tr>\n",
              "      <th>3</th>\n",
              "      <td>3</td>\n",
              "      <td>3</td>\n",
              "      <td>Departamento - Palermo Hollywood - Venta Monoambiente Quartier Dorrego</td>\n",
              "      <td>https://departamento.mercadolibre.com.ar/MLA-921699674-departamento-palermo-hollywood-venta-monoambiente-quartier-dorrego-_JM</td>\n",
              "      <td>Capital Federal</td>\n",
              "      <td>Capital Federal</td>\n",
              "      <td>-34.577396</td>\n",
              "      <td>-58.439194</td>\n",
              "      <td>Palermo Hollywood</td>\n",
              "      <td>694286242</td>\n",
              "      <td>Belgrano</td>\n",
              "      <td>Capital Federal</td>\n",
              "      <td>True</td>\n",
              "      <td>0.0</td>\n",
              "      <td>0.0</td>\n",
              "      <td>0.0</td>\n",
              "      <td>0.0</td>\n",
              "      <td>USD</td>\n",
              "      <td>180000.0</td>\n",
              "      <td>Nuevo</td>\n",
              "      <td>Sí</td>\n",
              "      <td>No</td>\n",
              "      <td>0.0</td>\n",
              "      <td>40 m²</td>\n",
              "      <td>1.0</td>\n",
              "      <td>1.0</td>\n",
              "      <td>40 m²</td>\n",
              "      <td>Venta</td>\n",
              "      <td>Departamento</td>\n",
              "      <td>No</td>\n",
              "      <td>40 m²</td>\n",
              "      <td>40 m²</td>\n",
              "      <td>1</td>\n",
              "      <td>None</td>\n",
              "      <td>1</td>\n",
              "      <td>None</td>\n",
              "      <td>None</td>\n",
              "      <td>None</td>\n",
              "      <td>0 años</td>\n",
              "      <td>9850 ARS</td>\n",
              "      <td>None</td>\n",
              "      <td>None</td>\n",
              "      <td>None</td>\n",
              "      <td>None</td>\n",
              "      <td>None</td>\n",
              "      <td>None</td>\n",
              "      <td>None</td>\n",
              "    </tr>\n",
              "    <tr>\n",
              "      <th>4</th>\n",
              "      <td>4</td>\n",
              "      <td>4</td>\n",
              "      <td>Departamento - Palermo Hollywood</td>\n",
              "      <td>https://departamento.mercadolibre.com.ar/MLA-1116714973-departamento-palermo-hollywood-_JM</td>\n",
              "      <td>Capital Federal</td>\n",
              "      <td>Capital Federal</td>\n",
              "      <td>-34.579685</td>\n",
              "      <td>-58.429800</td>\n",
              "      <td>Palermo Hollywood</td>\n",
              "      <td>418539414</td>\n",
              "      <td>Palermo Chico</td>\n",
              "      <td>Capital Federal</td>\n",
              "      <td>True</td>\n",
              "      <td>0.0</td>\n",
              "      <td>0.0</td>\n",
              "      <td>0.0</td>\n",
              "      <td>0.0</td>\n",
              "      <td>USD</td>\n",
              "      <td>135000.0</td>\n",
              "      <td>Nuevo</td>\n",
              "      <td>No</td>\n",
              "      <td>No</td>\n",
              "      <td>1.0</td>\n",
              "      <td>46 m²</td>\n",
              "      <td>1.0</td>\n",
              "      <td>2.0</td>\n",
              "      <td>52 m²</td>\n",
              "      <td>Venta</td>\n",
              "      <td>Departamento</td>\n",
              "      <td>No</td>\n",
              "      <td>52 m²</td>\n",
              "      <td>46 m²</td>\n",
              "      <td>2</td>\n",
              "      <td>1</td>\n",
              "      <td>1</td>\n",
              "      <td>None</td>\n",
              "      <td>None</td>\n",
              "      <td>None</td>\n",
              "      <td>0 años</td>\n",
              "      <td>10000 ARS</td>\n",
              "      <td>None</td>\n",
              "      <td>None</td>\n",
              "      <td>None</td>\n",
              "      <td>None</td>\n",
              "      <td>None</td>\n",
              "      <td>None</td>\n",
              "      <td>None</td>\n",
              "    </tr>\n",
              "  </tbody>\n",
              "</table>\n",
              "</div>\n",
              "      <button class=\"colab-df-convert\" onclick=\"convertToInteractive('df-332564ef-27ad-4dce-9626-c9108668c6d8')\"\n",
              "              title=\"Convert this dataframe to an interactive table.\"\n",
              "              style=\"display:none;\">\n",
              "        \n",
              "  <svg xmlns=\"http://www.w3.org/2000/svg\" height=\"24px\"viewBox=\"0 0 24 24\"\n",
              "       width=\"24px\">\n",
              "    <path d=\"M0 0h24v24H0V0z\" fill=\"none\"/>\n",
              "    <path d=\"M18.56 5.44l.94 2.06.94-2.06 2.06-.94-2.06-.94-.94-2.06-.94 2.06-2.06.94zm-11 1L8.5 8.5l.94-2.06 2.06-.94-2.06-.94L8.5 2.5l-.94 2.06-2.06.94zm10 10l.94 2.06.94-2.06 2.06-.94-2.06-.94-.94-2.06-.94 2.06-2.06.94z\"/><path d=\"M17.41 7.96l-1.37-1.37c-.4-.4-.92-.59-1.43-.59-.52 0-1.04.2-1.43.59L10.3 9.45l-7.72 7.72c-.78.78-.78 2.05 0 2.83L4 21.41c.39.39.9.59 1.41.59.51 0 1.02-.2 1.41-.59l7.78-7.78 2.81-2.81c.8-.78.8-2.07 0-2.86zM5.41 20L4 18.59l7.72-7.72 1.47 1.35L5.41 20z\"/>\n",
              "  </svg>\n",
              "      </button>\n",
              "      \n",
              "  <style>\n",
              "    .colab-df-container {\n",
              "      display:flex;\n",
              "      flex-wrap:wrap;\n",
              "      gap: 12px;\n",
              "    }\n",
              "\n",
              "    .colab-df-convert {\n",
              "      background-color: #E8F0FE;\n",
              "      border: none;\n",
              "      border-radius: 50%;\n",
              "      cursor: pointer;\n",
              "      display: none;\n",
              "      fill: #1967D2;\n",
              "      height: 32px;\n",
              "      padding: 0 0 0 0;\n",
              "      width: 32px;\n",
              "    }\n",
              "\n",
              "    .colab-df-convert:hover {\n",
              "      background-color: #E2EBFA;\n",
              "      box-shadow: 0px 1px 2px rgba(60, 64, 67, 0.3), 0px 1px 3px 1px rgba(60, 64, 67, 0.15);\n",
              "      fill: #174EA6;\n",
              "    }\n",
              "\n",
              "    [theme=dark] .colab-df-convert {\n",
              "      background-color: #3B4455;\n",
              "      fill: #D2E3FC;\n",
              "    }\n",
              "\n",
              "    [theme=dark] .colab-df-convert:hover {\n",
              "      background-color: #434B5C;\n",
              "      box-shadow: 0px 1px 3px 1px rgba(0, 0, 0, 0.15);\n",
              "      filter: drop-shadow(0px 1px 2px rgba(0, 0, 0, 0.3));\n",
              "      fill: #FFFFFF;\n",
              "    }\n",
              "  </style>\n",
              "\n",
              "      <script>\n",
              "        const buttonEl =\n",
              "          document.querySelector('#df-332564ef-27ad-4dce-9626-c9108668c6d8 button.colab-df-convert');\n",
              "        buttonEl.style.display =\n",
              "          google.colab.kernel.accessAllowed ? 'block' : 'none';\n",
              "\n",
              "        async function convertToInteractive(key) {\n",
              "          const element = document.querySelector('#df-332564ef-27ad-4dce-9626-c9108668c6d8');\n",
              "          const dataTable =\n",
              "            await google.colab.kernel.invokeFunction('convertToInteractive',\n",
              "                                                     [key], {});\n",
              "          if (!dataTable) return;\n",
              "\n",
              "          const docLinkHtml = 'Like what you see? Visit the ' +\n",
              "            '<a target=\"_blank\" href=https://colab.research.google.com/notebooks/data_table.ipynb>data table notebook</a>'\n",
              "            + ' to learn more about interactive tables.';\n",
              "          element.innerHTML = '';\n",
              "          dataTable['output_type'] = 'display_data';\n",
              "          await google.colab.output.renderOutput(dataTable, element);\n",
              "          const docLink = document.createElement('div');\n",
              "          docLink.innerHTML = docLinkHtml;\n",
              "          element.appendChild(docLink);\n",
              "        }\n",
              "      </script>\n",
              "    </div>\n",
              "  </div>\n",
              "  "
            ],
            "text/plain": [
              "   Unnamed: 0  Unnamed: 0.1  ... Tipo de casa Superficie de terreno\n",
              "0           0             0  ...         None                  None\n",
              "1           1             1  ...         None                  None\n",
              "2           2             2  ...         None                  None\n",
              "3           3             3  ...         None                  None\n",
              "4           4             4  ...         None                  None\n",
              "\n",
              "[5 rows x 47 columns]"
            ]
          },
          "metadata": {},
          "execution_count": 41
        }
      ]
    },
    {
      "cell_type": "markdown",
      "source": [
        "Lo guardamos a csv, y lo almacenamos en el bucket."
      ],
      "metadata": {
        "id": "I0Bd9kbWeqQO"
      }
    },
    {
      "cell_type": "code",
      "source": [
        "df.to_csv(\"dataset.csv\")\n",
        "!gsutil cp dataset.csv gs://{bucket_name}/html_spec_table_processor/dataset.csv"
      ],
      "metadata": {
        "colab": {
          "base_uri": "https://localhost:8080/"
        },
        "id": "AgBNmwU7aIqf",
        "outputId": "d5c99d3b-d453-4738-e69f-a51020d970e5"
      },
      "execution_count": 42,
      "outputs": [
        {
          "output_type": "stream",
          "name": "stdout",
          "text": [
            "Copying file://dataset.csv [Content-Type=text/csv]...\n",
            "/ [1 files][ 33.2 MiB/ 33.2 MiB]                                                \n",
            "Operation completed over 1 objects/33.2 MiB.                                     \n"
          ]
        }
      ]
    }
  ]
}