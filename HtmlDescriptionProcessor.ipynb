{
  "nbformat": 4,
  "nbformat_minor": 0,
  "metadata": {
    "colab": {
      "name": "HtmlDescriptionProcessor.ipynb",
      "provenance": [],
      "collapsed_sections": []
    },
    "kernelspec": {
      "name": "python3",
      "display_name": "Python 3"
    },
    "language_info": {
      "name": "python"
    }
  },
  "cells": [
    {
      "cell_type": "markdown",
      "source": [
        "Una vez realizado el Parser, tenemos disponibles los archivos .pkl, en el bucket, que contiene las descripciones limpias de cada uno de los inmuebles del dataset.\n",
        "\n",
        "Como primer paso, descargamos dichos archivos."
      ],
      "metadata": {
        "id": "99ffPGYtU0ja"
      }
    },
    {
      "cell_type": "code",
      "source": [
        "project_id = 'cryptic-opus-335323'\n",
        "bucket_name = 'bdm-unlu'\n",
        "from google.colab import auth\n",
        "auth.authenticate_user()\n",
        "!rm -r html_description_parser\n",
        "!gsutil cp -r gs://{bucket_name}/html_description_parser/ ."
      ],
      "metadata": {
        "id": "0JYeHKqkS9nW",
        "colab": {
          "base_uri": "https://localhost:8080/"
        },
        "outputId": "4681b343-a93a-4012-ac28-01721b43f9f5"
      },
      "execution_count": 1,
      "outputs": [
        {
          "output_type": "stream",
          "name": "stdout",
          "text": [
            "rm: cannot remove 'html_description_parser': No such file or directory\n",
            "Copying gs://bdm-unlu/html_description_parser/dataset.csv...\n",
            "Copying gs://bdm-unlu/html_description_parser/parsed_result_0.pkl...\n",
            "Copying gs://bdm-unlu/html_description_parser/parsed_result_1.pkl...\n",
            "Copying gs://bdm-unlu/html_description_parser/parsed_result_10.pkl...\n",
            "- [4 files][ 41.9 MiB/ 41.9 MiB]                                                \n",
            "==> NOTE: You are performing a sequence of gsutil operations that may\n",
            "run significantly faster if you instead use gsutil -m cp ... Please\n",
            "see the -m section under \"gsutil help options\" for further information\n",
            "about when gsutil -m can be advantageous.\n",
            "\n",
            "Copying gs://bdm-unlu/html_description_parser/parsed_result_11.pkl...\n",
            "Copying gs://bdm-unlu/html_description_parser/parsed_result_2.pkl...\n",
            "Copying gs://bdm-unlu/html_description_parser/parsed_result_3.pkl...\n",
            "Copying gs://bdm-unlu/html_description_parser/parsed_result_4.pkl...\n",
            "Copying gs://bdm-unlu/html_description_parser/parsed_result_5.pkl...\n",
            "Copying gs://bdm-unlu/html_description_parser/parsed_result_6.pkl...\n",
            "Copying gs://bdm-unlu/html_description_parser/parsed_result_7.pkl...\n",
            "Copying gs://bdm-unlu/html_description_parser/parsed_result_8.pkl...\n",
            "Copying gs://bdm-unlu/html_description_parser/parsed_result_9.pkl...\n",
            "| [13 files][ 64.8 MiB/ 64.8 MiB]                                               \n",
            "Operation completed over 13 objects/64.8 MiB.                                    \n"
          ]
        }
      ]
    },
    {
      "cell_type": "markdown",
      "source": [
        "Los unimos todos en un archivo results.pkl.gz. Hardcodeamos los nombres de los archivos, para que siguan el mismo orden de la numeración, dado que esto nos facilitará el trabajo luego."
      ],
      "metadata": {
        "id": "zqQwBJgAXrVa"
      }
    },
    {
      "cell_type": "code",
      "source": [
        "!cat html_description_parser/parsed_result_0.pkl html_description_parser/parsed_result_1.pkl html_description_parser/parsed_result_2.pkl html_description_parser/parsed_result_3.pkl html_description_parser/parsed_result_4.pkl html_description_parser/parsed_result_5.pkl html_description_parser/parsed_result_6.pkl html_description_parser/parsed_result_7.pkl html_description_parser/parsed_result_8.pkl html_description_parser/parsed_result_9.pkl html_description_parser/parsed_result_10.pkl html_description_parser/parsed_result_11.pkl > html_description_parser/results.pkl.gz"
      ],
      "metadata": {
        "id": "iWS2Q7vA4xzg"
      },
      "execution_count": 2,
      "outputs": []
    },
    {
      "cell_type": "markdown",
      "source": [
        "Descomprimimos el archivo."
      ],
      "metadata": {
        "id": "wGkQ3iDEX1W8"
      }
    },
    {
      "cell_type": "code",
      "source": [
        "!gzip -d html_description_parser/results.pkl.gz"
      ],
      "metadata": {
        "id": "tVErv-x641Ii"
      },
      "execution_count": 3,
      "outputs": []
    },
    {
      "cell_type": "markdown",
      "source": [
        "Leemos hasta que no tenga mas nada disponible para cargar a los raw_results.\n",
        "\n",
        "Vemos que leyó 12 archivos."
      ],
      "metadata": {
        "id": "IqMGr56aX3LO"
      }
    },
    {
      "cell_type": "code",
      "source": [
        "import pickle\n",
        "\n",
        "open_file_read = open(\"html_description_parser/results.pkl\", \"rb\")\n",
        "\n",
        "raw_results_count = 0\n",
        "has_load = True\n",
        "results = []\n",
        "\n",
        "while has_load:     \n",
        "  try:\n",
        "    raw_result = pickle.load(open_file_read)\n",
        "    raw_results_count += 1\n",
        "    results.extend(raw_result)\n",
        "  except Exception as e:\n",
        "    has_load = False\n",
        "\n",
        "print(\"Read {} results.\".format(raw_results_count))"
      ],
      "metadata": {
        "colab": {
          "base_uri": "https://localhost:8080/"
        },
        "id": "2Tj45oPM5UOJ",
        "outputId": "672a70a4-20d1-4c21-cf0a-95f6c21d14fd"
      },
      "execution_count": 4,
      "outputs": [
        {
          "output_type": "stream",
          "name": "stdout",
          "text": [
            "Read 12 results.\n"
          ]
        }
      ]
    },
    {
      "cell_type": "markdown",
      "source": [
        "Descargamos el dataset, para verificar que la cantidad de descripciónes que tenemos, coincide con la cantidad de registros del dataset."
      ],
      "metadata": {
        "id": "LZ6n9buDYGsD"
      }
    },
    {
      "cell_type": "code",
      "source": [
        "!gsutil cp gs://{bucket_name}/html_spec_table_processor/dataset.csv .\n",
        "\n",
        "import pandas as pd\n",
        "df = pd.read_csv(\"dataset.csv\")"
      ],
      "metadata": {
        "colab": {
          "base_uri": "https://localhost:8080/"
        },
        "id": "Tz_0VcLx8NuJ",
        "outputId": "bac34c83-29e0-4009-ce1f-eb1c415a118d"
      },
      "execution_count": 5,
      "outputs": [
        {
          "output_type": "stream",
          "name": "stdout",
          "text": [
            "Copying gs://bdm-unlu/html_spec_table_processor/dataset.csv...\n",
            "/ [1 files][ 33.2 MiB/ 33.2 MiB]                                                \n",
            "Operation completed over 1 objects/33.2 MiB.                                     \n"
          ]
        }
      ]
    },
    {
      "cell_type": "markdown",
      "source": [
        "Efectivamente vemos que si, ya que la resta de estas dos cantidades nos da 0."
      ],
      "metadata": {
        "id": "cg5qUlZMYOcP"
      }
    },
    {
      "cell_type": "code",
      "source": [
        "len(df[\"permalink\"]) - len(results)"
      ],
      "metadata": {
        "colab": {
          "base_uri": "https://localhost:8080/"
        },
        "id": "q6ljGr-F8QS8",
        "outputId": "20d193be-2463-4bbb-ccac-ff632be3f560"
      },
      "execution_count": 6,
      "outputs": [
        {
          "output_type": "execute_result",
          "data": {
            "text/plain": [
              "0"
            ]
          },
          "metadata": {},
          "execution_count": 6
        }
      ]
    },
    {
      "cell_type": "markdown",
      "source": [
        "Nos fijamos si el orden que siguen las descripciones, es el mismo orden que tienen los registros del dataset.\n",
        "\n",
        "Para esto, primero hacemos una funcion que nos permita extraer de la lista de resultados, que tiene la forma [permalink, descripción], la lista de permalinks de estos resultados.\n",
        "\n",
        "Comparamos la lista de permalinks del dataset, contra la lista de permalinks obtenida anteriormente.\n",
        "\n",
        "Esto nos devolverá una lista que contendrá unicamente valores verdadero o falso. Si realizamos la suma de esta lista, nos devolverá la cantidad de valores verdadero que hay en total.\n",
        "\n",
        "Si restamos esta cantidad, con la cantidad de permalinks del dataset, nos dará la cantidad de permalinks que no están en el mismo orden, y vemos que efectivamente es 0."
      ],
      "metadata": {
        "id": "YdmavnloYRsQ"
      }
    },
    {
      "cell_type": "code",
      "source": [
        "def column(matrix, i):\n",
        "    return [row[i] for row in matrix]\n",
        "permalinks = column(results, 0)\n",
        "\n",
        "equal_permalinks_amount = sum(df[\"permalink\"] == permalinks)\n",
        "\n",
        "equal_permalinks_amount - len(df[\"permalink\"])\n"
      ],
      "metadata": {
        "colab": {
          "base_uri": "https://localhost:8080/"
        },
        "id": "K3I3nunFYihw",
        "outputId": "6b97e3d6-23d1-40a8-839a-ae18def7503c"
      },
      "execution_count": 21,
      "outputs": [
        {
          "output_type": "execute_result",
          "data": {
            "text/plain": [
              "0"
            ]
          },
          "metadata": {},
          "execution_count": 21
        }
      ]
    },
    {
      "cell_type": "markdown",
      "source": [
        "Realizamos una función que verifica, dada una descripción, si encuentra una ocurrencia similar a las palabras PILETA o PISCINA, haciendo uso del metodo get_close_matches, de la librería difflib. En caso de encontrar esta similitud, devuelve el valor True."
      ],
      "metadata": {
        "id": "oIKY5GcpaCb9"
      }
    },
    {
      "cell_type": "code",
      "source": [
        "import difflib\n",
        "def has_pool(cleaned_description):\n",
        "  has_pool = False\n",
        "\n",
        "  \n",
        "  pileta_matches = difflib.get_close_matches('PILETA', cleaned_description, cutoff=0.8)\n",
        "  if len(pileta_matches) > 0:\n",
        "    has_pool = True\n",
        "  else:\n",
        "    piscina_matches = difflib.get_close_matches('PISCINA', cleaned_description, cutoff=0.8)\n",
        "    has_pool = len(piscina_matches) > 0\n",
        "  \n",
        "  return has_pool"
      ],
      "metadata": {
        "id": "G83k1iQqZn-x"
      },
      "execution_count": null,
      "outputs": []
    },
    {
      "cell_type": "markdown",
      "source": [
        "Otra función, igual a la anterior, pero encontrando las palabras TERRAZA o BALCÓN."
      ],
      "metadata": {
        "id": "3KltC2lLaXav"
      }
    },
    {
      "cell_type": "code",
      "source": [
        "def has_terrace(cleaned_description):\n",
        "  has_terrace = False\n",
        "\n",
        "  \n",
        "  terraza_matches = difflib.get_close_matches('TERRAZA', cleaned_description, cutoff=0.8)\n",
        "  if len(terraza_matches) > 0:\n",
        "    has_terrace = True\n",
        "  else:\n",
        "    balcon_matches = difflib.get_close_matches('BALCÓN', cleaned_description, cutoff=0.8)\n",
        "    has_terrace = len(balcon_matches) > 0\n",
        "  \n",
        "  return has_terrace"
      ],
      "metadata": {
        "id": "vEjcGBBwu65_"
      },
      "execution_count": null,
      "outputs": []
    },
    {
      "cell_type": "markdown",
      "source": [
        "Similar a la funcion anterior, pero verifica la palabra JACUZZI."
      ],
      "metadata": {
        "id": "Yhw1u8c6ac1l"
      }
    },
    {
      "cell_type": "code",
      "source": [
        "def has_jacuzzi(cleaned_description):\n",
        "  terraza_matches = difflib.get_close_matches('JACUZZI', cleaned_description, cutoff=0.8)\n",
        "  \n",
        "  return len(terraza_matches) > 0"
      ],
      "metadata": {
        "id": "RfXSAxhHxWd5"
      },
      "execution_count": null,
      "outputs": []
    },
    {
      "cell_type": "markdown",
      "source": [
        "En caso de esta función, verifica la existencia de la palabra LAVADERO."
      ],
      "metadata": {
        "id": "nzeRp8cAakPD"
      }
    },
    {
      "cell_type": "code",
      "source": [
        "def has_washer(cleaned_description):\n",
        "  has_washer = difflib.get_close_matches('LAVADERO', cleaned_description, cutoff=0.8)\n",
        "  \n",
        "  return len(has_washer) > 0"
      ],
      "metadata": {
        "id": "I1dgE62Jxqf8"
      },
      "execution_count": null,
      "outputs": []
    },
    {
      "cell_type": "markdown",
      "source": [
        "Creamos listas para cada una de las funciones que realizamos, y agregamos a la lista, para cada una de las descripcciones, que retornan dichas funciones."
      ],
      "metadata": {
        "id": "KR9uVn50anKo"
      }
    },
    {
      "cell_type": "code",
      "source": [
        "has_pool_list = []\n",
        "has_terrace_list = []\n",
        "has_jacuzzi_list = []\n",
        "has_washer_list = []\n",
        "for result in results:\n",
        "  has_pool_list.append(has_pool(result[1]))\n",
        "  has_terrace_list.append(has_terrace(result[1]))\n",
        "  has_jacuzzi_list.append(has_jacuzzi(result[1]))\n",
        "  has_washer_list.append(has_washer(result[1]))\n",
        "  "
      ],
      "metadata": {
        "id": "KOttWwG51tdx"
      },
      "execution_count": null,
      "outputs": []
    },
    {
      "cell_type": "markdown",
      "source": [
        "De todos los inmuebles, esta cantidad, pudimos determinar que tienen pileta."
      ],
      "metadata": {
        "id": "y9Ou_p9tau8S"
      }
    },
    {
      "cell_type": "code",
      "source": [
        "sum(has_pool_list)"
      ],
      "metadata": {
        "colab": {
          "base_uri": "https://localhost:8080/"
        },
        "id": "tNLb_ELf2CNp",
        "outputId": "1eff072f-e5a5-4920-b3b6-d5301f3fffdc"
      },
      "execution_count": null,
      "outputs": [
        {
          "output_type": "execute_result",
          "data": {
            "text/plain": [
              "18622"
            ]
          },
          "metadata": {},
          "execution_count": 120
        }
      ]
    },
    {
      "cell_type": "markdown",
      "source": [
        "Esta cantidad, tienen terraza."
      ],
      "metadata": {
        "id": "b_HYPKLSayem"
      }
    },
    {
      "cell_type": "code",
      "source": [
        "sum(has_terrace_list)"
      ],
      "metadata": {
        "colab": {
          "base_uri": "https://localhost:8080/"
        },
        "id": "Yrl6ccsa14Ge",
        "outputId": "10e221ec-a536-4487-e805-65028b324278"
      },
      "execution_count": null,
      "outputs": [
        {
          "output_type": "execute_result",
          "data": {
            "text/plain": [
              "51302"
            ]
          },
          "metadata": {},
          "execution_count": 121
        }
      ]
    },
    {
      "cell_type": "markdown",
      "source": [
        "Por otro lado, estos tienen jacuzzi."
      ],
      "metadata": {
        "id": "m9gRmM00a0MQ"
      }
    },
    {
      "cell_type": "code",
      "source": [
        "sum(has_jacuzzi_list)"
      ],
      "metadata": {
        "colab": {
          "base_uri": "https://localhost:8080/"
        },
        "id": "O-hE0Ouf13et",
        "outputId": "74688bc5-6fde-4f2e-a900-17eea7cd376f"
      },
      "execution_count": null,
      "outputs": [
        {
          "output_type": "execute_result",
          "data": {
            "text/plain": [
              "2268"
            ]
          },
          "metadata": {},
          "execution_count": 122
        }
      ]
    },
    {
      "cell_type": "markdown",
      "source": [
        "Esta otra cantidad, tiene lavadero."
      ],
      "metadata": {
        "id": "aeqdAmwHa2_0"
      }
    },
    {
      "cell_type": "code",
      "source": [
        "sum(has_washer_list)"
      ],
      "metadata": {
        "colab": {
          "base_uri": "https://localhost:8080/"
        },
        "id": "yvkT4qbJx--t",
        "outputId": "0d3586d8-0e90-4b61-bd10-54378fd41f94"
      },
      "execution_count": null,
      "outputs": [
        {
          "output_type": "execute_result",
          "data": {
            "text/plain": [
              "23167"
            ]
          },
          "metadata": {},
          "execution_count": 123
        }
      ]
    },
    {
      "cell_type": "markdown",
      "source": [
        "Agregamos al dataset estas columnas."
      ],
      "metadata": {
        "id": "9B4MQ1Hka838"
      }
    },
    {
      "cell_type": "code",
      "source": [
        "df[\"has_pool\"] = has_pool_list\n",
        "df[\"has_terrace\"] = has_terrace_list\n",
        "df[\"has_jacuzzi\"] = has_jacuzzi_list\n",
        "df[\"has_washer\"] = has_washer_list"
      ],
      "metadata": {
        "id": "tZq7V8O_1wFk"
      },
      "execution_count": null,
      "outputs": []
    },
    {
      "cell_type": "markdown",
      "source": [
        "Vemos como queda la lista resultante de columnas.\n",
        "\n",
        "Además, podemos observar que las primeras 3 columnas tienen un valor erroneo, vamos a eliminarlo."
      ],
      "metadata": {
        "id": "3p4agiT6a-8-"
      }
    },
    {
      "cell_type": "code",
      "source": [
        "df.columns"
      ],
      "metadata": {
        "colab": {
          "base_uri": "https://localhost:8080/"
        },
        "id": "9-1crbwsjq9B",
        "outputId": "369217a7-1634-43f6-c128-0baeaebb2936"
      },
      "execution_count": null,
      "outputs": [
        {
          "output_type": "execute_result",
          "data": {
            "text/plain": [
              "Index(['Unnamed: 0', 'Unnamed: 0.1', 'Unnamed: 0.1.1', 'title', 'permalink',\n",
              "       'city', 'state', 'latitude', 'longitude', 'neighborhood', 'seller_id',\n",
              "       'seller_city', 'seller_state', 'real_estate_agency',\n",
              "       'seller_cancelations', 'seller_claims', 'seller_handling_time',\n",
              "       'seller_sales', 'currency_id', 'price', 'item_condition',\n",
              "       'has_air_conditioning', 'has_telephone_line', 'bedrooms',\n",
              "       'covered_area', 'full_bathrooms', 'rooms', 'total_area', 'operation',\n",
              "       'property_type', 'with_virtual_tour', 'Superficie total',\n",
              "       'Superficie cubierta', 'Ambientes', 'Dormitorios', 'Baños', 'Cocheras',\n",
              "       'Cantidad de pisos', 'Disposición', 'Antigüedad', 'Expensas',\n",
              "       'Departamentos por piso', 'Número de piso de la unidad', 'Orientación',\n",
              "       'Tipo de departamento', 'Bodegas', 'Tipo de casa',\n",
              "       'Superficie de terreno', 'has_pool', 'has_terrace', 'has_jacuzzi',\n",
              "       'has_washer'],\n",
              "      dtype='object')"
            ]
          },
          "metadata": {},
          "execution_count": 125
        }
      ]
    },
    {
      "cell_type": "markdown",
      "source": [
        "Dropeamos estas columnas."
      ],
      "metadata": {
        "id": "RmKmHO8QbFSM"
      }
    },
    {
      "cell_type": "code",
      "source": [
        "df = df.drop(df.columns[0], axis=1)\n",
        "df = df.drop(df.columns[0], axis=1)\n",
        "df = df.drop(df.columns[0], axis=1)"
      ],
      "metadata": {
        "id": "nFE91FD4jIO-"
      },
      "execution_count": null,
      "outputs": []
    },
    {
      "cell_type": "markdown",
      "source": [
        "Vemos como queda el dataset."
      ],
      "metadata": {
        "id": "6uApQH9RbHbu"
      }
    },
    {
      "cell_type": "code",
      "source": [
        "df[:2]"
      ],
      "metadata": {
        "colab": {
          "base_uri": "https://localhost:8080/",
          "height": 385
        },
        "id": "cp1cwKpp0OdA",
        "outputId": "9065199f-8d9b-4681-ef95-94f919b3f7d0"
      },
      "execution_count": null,
      "outputs": [
        {
          "output_type": "execute_result",
          "data": {
            "text/html": [
              "\n",
              "  <div id=\"df-63bed7ca-cfdd-430d-a173-ab44896c6b32\">\n",
              "    <div class=\"colab-df-container\">\n",
              "      <div>\n",
              "<style scoped>\n",
              "    .dataframe tbody tr th:only-of-type {\n",
              "        vertical-align: middle;\n",
              "    }\n",
              "\n",
              "    .dataframe tbody tr th {\n",
              "        vertical-align: top;\n",
              "    }\n",
              "\n",
              "    .dataframe thead th {\n",
              "        text-align: right;\n",
              "    }\n",
              "</style>\n",
              "<table border=\"1\" class=\"dataframe\">\n",
              "  <thead>\n",
              "    <tr style=\"text-align: right;\">\n",
              "      <th></th>\n",
              "      <th>title</th>\n",
              "      <th>permalink</th>\n",
              "      <th>city</th>\n",
              "      <th>state</th>\n",
              "      <th>latitude</th>\n",
              "      <th>longitude</th>\n",
              "      <th>neighborhood</th>\n",
              "      <th>seller_id</th>\n",
              "      <th>seller_city</th>\n",
              "      <th>seller_state</th>\n",
              "      <th>real_estate_agency</th>\n",
              "      <th>seller_cancelations</th>\n",
              "      <th>seller_claims</th>\n",
              "      <th>seller_handling_time</th>\n",
              "      <th>seller_sales</th>\n",
              "      <th>currency_id</th>\n",
              "      <th>price</th>\n",
              "      <th>item_condition</th>\n",
              "      <th>has_air_conditioning</th>\n",
              "      <th>has_telephone_line</th>\n",
              "      <th>bedrooms</th>\n",
              "      <th>covered_area</th>\n",
              "      <th>full_bathrooms</th>\n",
              "      <th>rooms</th>\n",
              "      <th>total_area</th>\n",
              "      <th>operation</th>\n",
              "      <th>property_type</th>\n",
              "      <th>with_virtual_tour</th>\n",
              "      <th>Superficie total</th>\n",
              "      <th>Superficie cubierta</th>\n",
              "      <th>Ambientes</th>\n",
              "      <th>Dormitorios</th>\n",
              "      <th>Baños</th>\n",
              "      <th>Cocheras</th>\n",
              "      <th>Cantidad de pisos</th>\n",
              "      <th>Disposición</th>\n",
              "      <th>Antigüedad</th>\n",
              "      <th>Expensas</th>\n",
              "      <th>Departamentos por piso</th>\n",
              "      <th>Número de piso de la unidad</th>\n",
              "      <th>Orientación</th>\n",
              "      <th>Tipo de departamento</th>\n",
              "      <th>Bodegas</th>\n",
              "      <th>Tipo de casa</th>\n",
              "      <th>Superficie de terreno</th>\n",
              "      <th>has_pool</th>\n",
              "      <th>has_terrace</th>\n",
              "      <th>has_jacuzzi</th>\n",
              "      <th>has_washer</th>\n",
              "    </tr>\n",
              "  </thead>\n",
              "  <tbody>\n",
              "    <tr>\n",
              "      <th>0</th>\n",
              "      <td>Departamento Venta 3 Ambientes Palermo  Amenit...</td>\n",
              "      <td>https://departamento.mercadolibre.com.ar/MLA-1...</td>\n",
              "      <td>Capital Federal</td>\n",
              "      <td>Capital Federal</td>\n",
              "      <td>-34.579563</td>\n",
              "      <td>-58.433160</td>\n",
              "      <td>Palermo Hollywood</td>\n",
              "      <td>314431007</td>\n",
              "      <td>Palermo</td>\n",
              "      <td>Capital Federal</td>\n",
              "      <td>True</td>\n",
              "      <td>0.0</td>\n",
              "      <td>0.0</td>\n",
              "      <td>0.0</td>\n",
              "      <td>0.0</td>\n",
              "      <td>USD</td>\n",
              "      <td>270000.0</td>\n",
              "      <td>Usado</td>\n",
              "      <td>No</td>\n",
              "      <td>No</td>\n",
              "      <td>2.0</td>\n",
              "      <td>85 m²</td>\n",
              "      <td>3.0</td>\n",
              "      <td>3.0</td>\n",
              "      <td>85 m²</td>\n",
              "      <td>Venta</td>\n",
              "      <td>Departamento</td>\n",
              "      <td>No</td>\n",
              "      <td>85 m²</td>\n",
              "      <td>85 m²</td>\n",
              "      <td>3.0</td>\n",
              "      <td>2.0</td>\n",
              "      <td>3.0</td>\n",
              "      <td>1.0</td>\n",
              "      <td>7.0</td>\n",
              "      <td>Frente</td>\n",
              "      <td>10 años</td>\n",
              "      <td>20000 ARS</td>\n",
              "      <td>NaN</td>\n",
              "      <td>NaN</td>\n",
              "      <td>NaN</td>\n",
              "      <td>NaN</td>\n",
              "      <td>NaN</td>\n",
              "      <td>NaN</td>\n",
              "      <td>NaN</td>\n",
              "      <td>True</td>\n",
              "      <td>True</td>\n",
              "      <td>False</td>\n",
              "      <td>False</td>\n",
              "    </tr>\n",
              "    <tr>\n",
              "      <th>1</th>\n",
              "      <td>Venta Departamento 3 Ambientes Piso 15 Palermo</td>\n",
              "      <td>https://departamento.mercadolibre.com.ar/MLA-1...</td>\n",
              "      <td>Capital Federal</td>\n",
              "      <td>Capital Federal</td>\n",
              "      <td>-34.573490</td>\n",
              "      <td>-58.436577</td>\n",
              "      <td>Palermo Hollywood</td>\n",
              "      <td>466036843</td>\n",
              "      <td>Monserrat</td>\n",
              "      <td>Capital Federal</td>\n",
              "      <td>True</td>\n",
              "      <td>0.0</td>\n",
              "      <td>0.0</td>\n",
              "      <td>0.0</td>\n",
              "      <td>0.0</td>\n",
              "      <td>USD</td>\n",
              "      <td>148500.0</td>\n",
              "      <td>Usado</td>\n",
              "      <td>NaN</td>\n",
              "      <td>NaN</td>\n",
              "      <td>2.0</td>\n",
              "      <td>46 m²</td>\n",
              "      <td>1.0</td>\n",
              "      <td>3.0</td>\n",
              "      <td>55 m²</td>\n",
              "      <td>Venta</td>\n",
              "      <td>Departamento</td>\n",
              "      <td>No</td>\n",
              "      <td>55 m²</td>\n",
              "      <td>46 m²</td>\n",
              "      <td>3.0</td>\n",
              "      <td>2.0</td>\n",
              "      <td>1.0</td>\n",
              "      <td>NaN</td>\n",
              "      <td>NaN</td>\n",
              "      <td>NaN</td>\n",
              "      <td>50 años</td>\n",
              "      <td>12.5 ARS</td>\n",
              "      <td>NaN</td>\n",
              "      <td>NaN</td>\n",
              "      <td>NaN</td>\n",
              "      <td>NaN</td>\n",
              "      <td>NaN</td>\n",
              "      <td>NaN</td>\n",
              "      <td>NaN</td>\n",
              "      <td>False</td>\n",
              "      <td>True</td>\n",
              "      <td>False</td>\n",
              "      <td>False</td>\n",
              "    </tr>\n",
              "  </tbody>\n",
              "</table>\n",
              "</div>\n",
              "      <button class=\"colab-df-convert\" onclick=\"convertToInteractive('df-63bed7ca-cfdd-430d-a173-ab44896c6b32')\"\n",
              "              title=\"Convert this dataframe to an interactive table.\"\n",
              "              style=\"display:none;\">\n",
              "        \n",
              "  <svg xmlns=\"http://www.w3.org/2000/svg\" height=\"24px\"viewBox=\"0 0 24 24\"\n",
              "       width=\"24px\">\n",
              "    <path d=\"M0 0h24v24H0V0z\" fill=\"none\"/>\n",
              "    <path d=\"M18.56 5.44l.94 2.06.94-2.06 2.06-.94-2.06-.94-.94-2.06-.94 2.06-2.06.94zm-11 1L8.5 8.5l.94-2.06 2.06-.94-2.06-.94L8.5 2.5l-.94 2.06-2.06.94zm10 10l.94 2.06.94-2.06 2.06-.94-2.06-.94-.94-2.06-.94 2.06-2.06.94z\"/><path d=\"M17.41 7.96l-1.37-1.37c-.4-.4-.92-.59-1.43-.59-.52 0-1.04.2-1.43.59L10.3 9.45l-7.72 7.72c-.78.78-.78 2.05 0 2.83L4 21.41c.39.39.9.59 1.41.59.51 0 1.02-.2 1.41-.59l7.78-7.78 2.81-2.81c.8-.78.8-2.07 0-2.86zM5.41 20L4 18.59l7.72-7.72 1.47 1.35L5.41 20z\"/>\n",
              "  </svg>\n",
              "      </button>\n",
              "      \n",
              "  <style>\n",
              "    .colab-df-container {\n",
              "      display:flex;\n",
              "      flex-wrap:wrap;\n",
              "      gap: 12px;\n",
              "    }\n",
              "\n",
              "    .colab-df-convert {\n",
              "      background-color: #E8F0FE;\n",
              "      border: none;\n",
              "      border-radius: 50%;\n",
              "      cursor: pointer;\n",
              "      display: none;\n",
              "      fill: #1967D2;\n",
              "      height: 32px;\n",
              "      padding: 0 0 0 0;\n",
              "      width: 32px;\n",
              "    }\n",
              "\n",
              "    .colab-df-convert:hover {\n",
              "      background-color: #E2EBFA;\n",
              "      box-shadow: 0px 1px 2px rgba(60, 64, 67, 0.3), 0px 1px 3px 1px rgba(60, 64, 67, 0.15);\n",
              "      fill: #174EA6;\n",
              "    }\n",
              "\n",
              "    [theme=dark] .colab-df-convert {\n",
              "      background-color: #3B4455;\n",
              "      fill: #D2E3FC;\n",
              "    }\n",
              "\n",
              "    [theme=dark] .colab-df-convert:hover {\n",
              "      background-color: #434B5C;\n",
              "      box-shadow: 0px 1px 3px 1px rgba(0, 0, 0, 0.15);\n",
              "      filter: drop-shadow(0px 1px 2px rgba(0, 0, 0, 0.3));\n",
              "      fill: #FFFFFF;\n",
              "    }\n",
              "  </style>\n",
              "\n",
              "      <script>\n",
              "        const buttonEl =\n",
              "          document.querySelector('#df-63bed7ca-cfdd-430d-a173-ab44896c6b32 button.colab-df-convert');\n",
              "        buttonEl.style.display =\n",
              "          google.colab.kernel.accessAllowed ? 'block' : 'none';\n",
              "\n",
              "        async function convertToInteractive(key) {\n",
              "          const element = document.querySelector('#df-63bed7ca-cfdd-430d-a173-ab44896c6b32');\n",
              "          const dataTable =\n",
              "            await google.colab.kernel.invokeFunction('convertToInteractive',\n",
              "                                                     [key], {});\n",
              "          if (!dataTable) return;\n",
              "\n",
              "          const docLinkHtml = 'Like what you see? Visit the ' +\n",
              "            '<a target=\"_blank\" href=https://colab.research.google.com/notebooks/data_table.ipynb>data table notebook</a>'\n",
              "            + ' to learn more about interactive tables.';\n",
              "          element.innerHTML = '';\n",
              "          dataTable['output_type'] = 'display_data';\n",
              "          await google.colab.output.renderOutput(dataTable, element);\n",
              "          const docLink = document.createElement('div');\n",
              "          docLink.innerHTML = docLinkHtml;\n",
              "          element.appendChild(docLink);\n",
              "        }\n",
              "      </script>\n",
              "    </div>\n",
              "  </div>\n",
              "  "
            ],
            "text/plain": [
              "                                               title  ... has_washer\n",
              "0  Departamento Venta 3 Ambientes Palermo  Amenit...  ...      False\n",
              "1     Venta Departamento 3 Ambientes Piso 15 Palermo  ...      False\n",
              "\n",
              "[2 rows x 49 columns]"
            ]
          },
          "metadata": {},
          "execution_count": 127
        }
      ]
    },
    {
      "cell_type": "code",
      "source": [
        "df.to_csv(\"dataset.csv\")"
      ],
      "metadata": {
        "id": "Vsk9-STFwLJY"
      },
      "execution_count": null,
      "outputs": []
    },
    {
      "cell_type": "code",
      "source": [
        "!gsutil cp dataset.csv gs://{bucket_name}/html_description_parser/"
      ],
      "metadata": {
        "colab": {
          "base_uri": "https://localhost:8080/"
        },
        "id": "sNXR82LWwQeN",
        "outputId": "42d4f265-e6c2-408a-b021-3223f6688310"
      },
      "execution_count": null,
      "outputs": [
        {
          "output_type": "stream",
          "name": "stdout",
          "text": [
            "Copying file://dataset.csv [Content-Type=text/csv]...\n",
            "-\n",
            "Operation completed over 1 objects/34.9 MiB.                                     \n"
          ]
        }
      ]
    },
    {
      "cell_type": "markdown",
      "source": [
        "Queda pendiente hacer un Word Cloud, para ver cuales son las palabras mas frecuentes de la descripción, y determinar de esta forma, graficamente, si podemos agregar alguna otra funcion, para enriquecer el dataset.\n",
        "\n",
        "Pero dado que requiere un costo computacional alto, postergamos su realización."
      ],
      "metadata": {
        "id": "WLkqTHrmbKp7"
      }
    },
    {
      "cell_type": "code",
      "source": [
        "#PENDIENTE. Costo computacional muy alto\n",
        "\n",
        "#text = ''\n",
        "#for result in results[:1000]:\n",
        "#  for word in result[1]:\n",
        "#    text = text + ' ' + word\n",
        "\n",
        "# Import package\n",
        "#import matplotlib.pyplot as plt# Define a function to plot word cloud\n",
        "#def plot_cloud(wordcloud):\n",
        "    # Set figure size\n",
        "#    plt.figure(figsize=(40, 30))\n",
        "    # Display image\n",
        "#    plt.imshow(wordcloud) \n",
        "    # No axis details\n",
        "#    plt.axis(\"off\");\n",
        "\n",
        "# Import package\n",
        "#from wordcloud import WordCloud, STOPWORDS# Generate word cloud\n",
        "#wordcloud = WordCloud(width= 3000, height = 2000, random_state=1, background_color='salmon', colormap='Pastel1', collocations=False, stopwords = STOPWORDS).generate(text)# Plot\n",
        "#plot_cloud(wordcloud)"
      ],
      "metadata": {
        "id": "xWvQcCG3ktns"
      },
      "execution_count": null,
      "outputs": []
    }
  ]
}