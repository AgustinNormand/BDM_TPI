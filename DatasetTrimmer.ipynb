{
  "nbformat": 4,
  "nbformat_minor": 0,
  "metadata": {
    "colab": {
      "name": "DatasetTrimmer.ipynb",
      "provenance": []
    },
    "kernelspec": {
      "name": "python3",
      "display_name": "Python 3"
    },
    "language_info": {
      "name": "python"
    }
  },
  "cells": [
    {
      "cell_type": "markdown",
      "source": [
        "El dataset obtenido en la notebook Attributes, guardado en Google Storage en el path Attributes/dataset.csv, contiene todos los registros que pudimos recuperar de MercadoLibre. Ronda en los 300.000 inmuebles.\n",
        "\n",
        "Vamos a recortar el dataset, para entrenar un modelo mas especifico.\n",
        "\n",
        "Pero hicimos las peticiones de todos los registros, para posiblemente, utilizarlos mas adelante.\n",
        "\n",
        "Dado a que esta notebook va a recortar o podar el dataset original, por eso el nombre de DatasetTrimmer."
      ],
      "metadata": {
        "id": "XAQQ0LvLqM0a"
      }
    },
    {
      "cell_type": "markdown",
      "source": [
        "Nos autenticamos con Google Cloud Storage, y descargamos el dataset."
      ],
      "metadata": {
        "id": "q1uLnfKlqfw_"
      }
    },
    {
      "cell_type": "code",
      "execution_count": 1,
      "metadata": {
        "colab": {
          "base_uri": "https://localhost:8080/"
        },
        "id": "MZZxJSivhO1U",
        "outputId": "5f67bff9-2ded-4611-c3c4-bb551ce4901b"
      },
      "outputs": [
        {
          "output_type": "stream",
          "name": "stdout",
          "text": [
            "Copying gs://bdm-unlu/attributes/dataset.csv...\n",
            "- [1 files][ 97.5 MiB/ 97.5 MiB]                                                \n",
            "Operation completed over 1 objects/97.5 MiB.                                     \n"
          ]
        }
      ],
      "source": [
        "project_id = 'cryptic-opus-335323'\n",
        "bucket_name = 'bdm-unlu'\n",
        "from google.colab import auth\n",
        "auth.authenticate_user()\n",
        "!gsutil cp gs://{bucket_name}/attributes/dataset.csv dataset.csv"
      ]
    },
    {
      "cell_type": "markdown",
      "source": [
        "Lo leemos y creamos un Data Frame."
      ],
      "metadata": {
        "id": "ihisiDCaqrQk"
      }
    },
    {
      "cell_type": "code",
      "source": [
        "import pandas as pd\n",
        "df = pd.read_csv(\"dataset.csv\")"
      ],
      "metadata": {
        "id": "Lw4QxbjMhgql"
      },
      "execution_count": 2,
      "outputs": []
    },
    {
      "cell_type": "markdown",
      "source": [
        "Vemos la cantidad de valores que tiene agruado por state."
      ],
      "metadata": {
        "id": "cx27sOelquID"
      }
    },
    {
      "cell_type": "code",
      "source": [
        "df[\"state\"].value_counts()"
      ],
      "metadata": {
        "colab": {
          "base_uri": "https://localhost:8080/"
        },
        "id": "_AWzZ_ZDlzJA",
        "outputId": "fc3309f3-789d-4f25-8c0e-e74bac3a0069"
      },
      "execution_count": 23,
      "outputs": [
        {
          "output_type": "execute_result",
          "data": {
            "text/plain": [
              "Capital Federal           82277\n",
              "Bs.As. G.B.A. Norte       58757\n",
              "Bs.As. G.B.A. Oeste       45694\n",
              "Bs.As. G.B.A. Sur         40608\n",
              "Bs.As. Costa Atlántica    26685\n",
              "Córdoba                   23663\n",
              "Santa Fe                  11174\n",
              "Buenos Aires Interior      9543\n",
              "Neuquén                    1975\n",
              "Río Negro                  1916\n",
              "San Luis                    983\n",
              "Mendoza                     966\n",
              "Entre Ríos                  646\n",
              "Salta                       354\n",
              "Tucumán                     258\n",
              "Misiones                    257\n",
              "Chubut                      216\n",
              "Corrientes                  166\n",
              "Santa Cruz                   89\n",
              "Chaco                        64\n",
              "Jujuy                        45\n",
              "La Pampa                     22\n",
              "Tierra del Fuego             14\n",
              "Name: state, dtype: int64"
            ]
          },
          "metadata": {},
          "execution_count": 23
        }
      ]
    },
    {
      "cell_type": "markdown",
      "source": [
        "Nos quedamos solo con los de Capital Federal."
      ],
      "metadata": {
        "id": "hLNhSv-Tqznn"
      }
    },
    {
      "cell_type": "code",
      "source": [
        "cap_state_df = df[df[\"state\"]==\"Capital Federal\"]"
      ],
      "metadata": {
        "id": "HYtjPvlehjzX"
      },
      "execution_count": 14,
      "outputs": []
    },
    {
      "cell_type": "markdown",
      "source": [
        "Vemos las distintas ciudades que tiene el dataset ahora."
      ],
      "metadata": {
        "id": "3nvmC0yDq1rs"
      }
    },
    {
      "cell_type": "code",
      "source": [
        "cap_state_df[\"city\"].value_counts()"
      ],
      "metadata": {
        "colab": {
          "base_uri": "https://localhost:8080/"
        },
        "id": "tYKIAcaWhwn5",
        "outputId": "1999a6dd-ac74-4a53-ca70-57e249bf1c77"
      },
      "execution_count": 15,
      "outputs": [
        {
          "output_type": "execute_result",
          "data": {
            "text/plain": [
              "Capital Federal    82165\n",
              "Barracas             105\n",
              "San Cristóbal          3\n",
              "Velez Sarsfield        2\n",
              "Versailles             2\n",
              "Name: city, dtype: int64"
            ]
          },
          "metadata": {},
          "execution_count": 15
        }
      ]
    },
    {
      "cell_type": "markdown",
      "source": [
        "Nos quedamos solo con las que sean Capital Federal"
      ],
      "metadata": {
        "id": "qN9W2vdoq34k"
      }
    },
    {
      "cell_type": "code",
      "source": [
        "cap_city_df = cap_state_df[cap_state_df[\"city\"]==\"Capital Federal\"]"
      ],
      "metadata": {
        "id": "JPiDuhy1kTgn"
      },
      "execution_count": 17,
      "outputs": []
    },
    {
      "cell_type": "markdown",
      "source": [
        "Vemos los diferentes barrios que tiene el dataset."
      ],
      "metadata": {
        "id": "GBbLxyTfq6xZ"
      }
    },
    {
      "cell_type": "code",
      "source": [
        "cap_city_df[\"neighborhood\"].value_counts()"
      ],
      "metadata": {
        "colab": {
          "base_uri": "https://localhost:8080/"
        },
        "id": "LFuAvNNakbch",
        "outputId": "2f1a6473-1c81-4309-bfe4-e596b244cc3f"
      },
      "execution_count": 20,
      "outputs": [
        {
          "output_type": "execute_result",
          "data": {
            "text/plain": [
              "Belgrano           7822\n",
              "Palermo            7222\n",
              "Caballito          4849\n",
              "Villa Urquiza      4292\n",
              "Almagro            3735\n",
              "                   ... \n",
              "Agronomía           168\n",
              "Palermo Viejo       127\n",
              "Villa Real           75\n",
              "Villa Riachuelo      14\n",
              "Puerto Retiro         4\n",
              "Name: neighborhood, Length: 62, dtype: int64"
            ]
          },
          "metadata": {},
          "execution_count": 20
        }
      ]
    },
    {
      "cell_type": "markdown",
      "source": [
        "Lo guardamos como csv."
      ],
      "metadata": {
        "id": "jv51l6D6q82F"
      }
    },
    {
      "cell_type": "code",
      "source": [
        "cap_city_df.to_csv(\"trimmed_dataset_cf.csv\")"
      ],
      "metadata": {
        "id": "v4MRNDyAleak"
      },
      "execution_count": 27,
      "outputs": []
    },
    {
      "cell_type": "markdown",
      "source": [
        "Y lo subimos al bucket, en el path dataset_trimmer/trimmed_dataset.cf.csv"
      ],
      "metadata": {
        "id": "Iomidfsiq-gH"
      }
    },
    {
      "cell_type": "code",
      "source": [
        "!gsutil cp trimmed_dataset_cf.csv gs://{bucket_name}/dataset_trimmer/trimmed_dataset_cf.csv"
      ],
      "metadata": {
        "colab": {
          "base_uri": "https://localhost:8080/"
        },
        "id": "ihQMK-hTllkm",
        "outputId": "d112ad2c-17e3-4326-e07a-f5294a98d10e"
      },
      "execution_count": 28,
      "outputs": [
        {
          "output_type": "stream",
          "name": "stdout",
          "text": [
            "Copying file://trimmed_dataset_cf.csv [Content-Type=text/csv]...\n",
            "-\n",
            "Operation completed over 1 objects/28.6 MiB.                                     \n"
          ]
        }
      ]
    }
  ]
}